{
 "cells": [
  {
   "cell_type": "code",
   "execution_count": 28,
   "id": "d771e482-4682-40fc-ae14-e6192456d8ba",
   "metadata": {},
   "outputs": [
    {
     "name": "stdout",
     "output_type": "stream",
     "text": [
      "several\n"
     ]
    }
   ],
   "source": [
    "numPartitions = 10\n",
    "\n",
    "lines = sc.textFile('adj_noun_pairs.txt', numPartitions)\n",
    "pairs = lines.map(lambda l: tuple(l.split())).filter(lambda p: len(p)==2)\n",
    "pairs.cache()\n",
    "\n",
    "# FILL IN YOUR CODE HERE\n",
    "def find_first_term(index,it):\n",
    "    ### function to check iteratively. If finds one, immediately yield and break\n",
    "    for i in it:\n",
    "        if i[1] == 'unification':\n",
    "            yield (index,i[0])\n",
    "            break\n",
    "ans = pairs.mapPartitionsWithIndex(find_first_term).take(1) #parallel jobs\n",
    "if len(ans) > 0: #if finds at least one pair satisfied the condition\n",
    "    first_adj = ans[0][1] ##this is the answer\n",
    "    print(first_adj)\n",
    "else: \n",
    "    print('No adj_noun_pairs contains unification')"
   ]
  },
  {
   "cell_type": "code",
   "execution_count": 37,
   "id": "b94dd985-dcde-4e34-a591-ff72062eb5c3",
   "metadata": {},
   "outputs": [
    {
     "name": "stdout",
     "output_type": "stream",
     "text": [
      "<\n"
     ]
    }
   ],
   "source": [
    "x = 'abcccbcbcacaccacaabb'\n",
    "y = 'abcccbcccacaccacaabb'\n",
    "\n",
    "numPartitions = 4\n",
    "rdd = sc.parallelize(zip(x,y), numPartitions)\n",
    "\n",
    "# FILL IN YOUR CODE HERE\n",
    "def compare(index,it):\n",
    "    for i in it:\n",
    "        if i[0] == i[1]:\n",
    "            continue\n",
    "        elif i[0] < i[1]:\n",
    "            yield (index, '<')\n",
    "            break\n",
    "        else:\n",
    "            yield (index, '>')\n",
    "            break\n",
    "ans = rdd.mapPartitionsWithIndex(compare).take(1)\n",
    "if len(ans) > 0:\n",
    "    print(ans[0][1])\n",
    "else:\n",
    "    print('=')"
   ]
  },
  {
   "cell_type": "code",
   "execution_count": null,
   "id": "4dbf0187-3b38-4206-b869-24096a73441d",
   "metadata": {},
   "outputs": [],
   "source": []
  }
 ],
 "metadata": {
  "kernelspec": {
   "display_name": "Python 3 (ipykernel)",
   "language": "python",
   "name": "python3"
  },
  "language_info": {
   "codemirror_mode": {
    "name": "ipython",
    "version": 3
   },
   "file_extension": ".py",
   "mimetype": "text/x-python",
   "name": "python",
   "nbconvert_exporter": "python",
   "pygments_lexer": "ipython3",
   "version": "3.8.12"
  }
 },
 "nbformat": 4,
 "nbformat_minor": 5
}
