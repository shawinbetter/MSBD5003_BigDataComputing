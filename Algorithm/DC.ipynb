{
 "cells": [
  {
   "cell_type": "markdown",
   "metadata": {},
   "source": [
    "### Prefix Sums"
   ]
  },
  {
   "cell_type": "code",
   "execution_count": 1,
   "metadata": {},
   "outputs": [
    {
     "name": "stderr",
     "output_type": "stream",
     "text": [
      "[Stage 0:>                                                          (0 + 4) / 4]\r"
     ]
    },
    {
     "name": "stdout",
     "output_type": "stream",
     "text": [
      "[5, 8, 13, 1]\n",
      "[5, 13, 26, 27]\n",
      "[1, 5, 8, 13, 19, 26, 26, 27]\n"
     ]
    },
    {
     "name": "stderr",
     "output_type": "stream",
     "text": [
      "                                                                                \r"
     ]
    }
   ],
   "source": [
    "x = [1, 4, 3, 5, 6, 7, 0, 1]\n",
    "\n",
    "rdd = sc.parallelize(x, 4).cache()\n",
    "\n",
    "def f(iterator):\n",
    "    yield sum(iterator)\n",
    "\n",
    "sums = rdd.mapPartitions(f).collect()\n",
    "\n",
    "print(sums)\n",
    "\n",
    "for i in range(1, len(sums)):\n",
    "    sums[i] += sums[i-1]\n",
    "\n",
    "print(sums)\n",
    "\n",
    "def g(index, iterator):\n",
    "    global sums\n",
    "    if index == 0:\n",
    "        s = 0\n",
    "    else:\n",
    "        s = sums[index-1]\n",
    "    for i in iterator:\n",
    "        s += i\n",
    "        yield s\n",
    "\n",
    "prefix_sums = rdd.mapPartitionsWithIndex(g)\n",
    "print(prefix_sums.collect())"
   ]
  },
  {
   "cell_type": "markdown",
   "metadata": {},
   "source": [
    "### Monotocity checking"
   ]
  },
  {
   "cell_type": "code",
   "execution_count": 2,
   "metadata": {},
   "outputs": [
    {
     "name": "stdout",
     "output_type": "stream",
     "text": [
      "[(True, 1, 5), (False, 7, 14), (True, 16, 24), (True, 24, 30)]\n",
      "Not monotone\n"
     ]
    }
   ],
   "source": [
    "x = [1, 3, 4, 5, 7, 3, 10, 14, 16, 20, 21, 24, 24, 26, 27, 30]\n",
    "\n",
    "rdd = sc.parallelize(x, 4).cache()\n",
    "\n",
    "def f(it):\n",
    "    first = next(it) #return first item in the generator\n",
    "    last = first\n",
    "    increasing = True\n",
    "    for i in it:\n",
    "        if i < last: #not montically increasing\n",
    "            increasing = False\n",
    "        last = i\n",
    "    yield increasing, first, last #always get \n",
    "\n",
    "results = rdd.mapPartitions(f).collect()\n",
    "\n",
    "print(results)\n",
    "\n",
    "increasing = True\n",
    "if results[0][0] == False:\n",
    "    increasing = False\n",
    "else:\n",
    "    for i in range(1, len(results)):\n",
    "        if results[i][0] == False or results[i][1] < results[i-1][2]:\n",
    "            increasing = False\n",
    "if increasing:\n",
    "    print(\"Monotone\")\n",
    "else:\n",
    "    print(\"Not monotone\")\n"
   ]
  },
  {
   "cell_type": "markdown",
   "metadata": {},
   "source": [
    "### Maximum Subarray Problem"
   ]
  },
  {
   "cell_type": "code",
   "execution_count": 3,
   "metadata": {},
   "outputs": [
    {
     "name": "stdout",
     "output_type": "stream",
     "text": [
      "9\n"
     ]
    }
   ],
   "source": [
    "# Classical divide and conquer algorithm\n",
    "\n",
    "A = [-3, 2, 1, -4, 5, 2, -1, 3, -1]\n",
    "\n",
    "def MaxSubarray(A, p, r):\n",
    "    if p == r:\n",
    "        return A[p]\n",
    "    q = (p+r)//2\n",
    "    M1 = MaxSubarray(A, p, q)\n",
    "    M2 = MaxSubarray(A, q+1, r)\n",
    "    Lm = -float('inf')\n",
    "    Rm = Lm\n",
    "    V = 0\n",
    "    for i in range(q, p-1, -1):\n",
    "        V += A[i]\n",
    "        if V > Lm:\n",
    "            Lm = V\n",
    "    V = 0\n",
    "    for i in range(q+1, r+1):\n",
    "        V += A[i]\n",
    "        if V > Rm:\n",
    "            Rm = V\n",
    "    return max(M1, M2, Lm+Rm)\n",
    "\n",
    "print(MaxSubarray(A, 0, len(A)-1))"
   ]
  },
  {
   "cell_type": "code",
   "execution_count": 4,
   "metadata": {},
   "outputs": [
    {
     "name": "stdout",
     "output_type": "stream",
     "text": [
      "9\n"
     ]
    }
   ],
   "source": [
    "# Linear-time algorithm\n",
    "# Written in a way so that we can call it for each partition\n",
    "\n",
    "def linear_time(it):\n",
    "    Vmax = -float('inf')\n",
    "    V = 0\n",
    "    for Ai in it:\n",
    "        V += Ai\n",
    "        if V > Vmax:\n",
    "            Vmax = V\n",
    "        if V < 0:\n",
    "            V = 0\n",
    "    yield Vmax\n",
    "    \n",
    "print(next(linear_time(A)))"
   ]
  },
  {
   "cell_type": "code",
   "execution_count": 5,
   "metadata": {},
   "outputs": [
    {
     "name": "stdout",
     "output_type": "stream",
     "text": [
      "[-3, 2, 1, -4, 5, 2, -1, 3, -1]\n",
      "[-1, -3, 7, 1]\n",
      "[(2, -1), (0, 1), (7, 7), (2, 2)]\n",
      "9\n"
     ]
    }
   ],
   "source": [
    "# The Spark algorithm:\n",
    "\n",
    "def compute_sum(it):\n",
    "    yield sum(it)\n",
    "\n",
    "def compute_LmRm(index, it):\n",
    "    Rm = -float('inf')\n",
    "    L = sums[index]\n",
    "    Lm = L\n",
    "    R = 0\n",
    "    for Ai in it:\n",
    "        L -= Ai\n",
    "        R += Ai\n",
    "        if L > Lm:\n",
    "            Lm = L\n",
    "        if R > Rm:\n",
    "            Rm = R\n",
    "    yield (Lm, Rm)\n",
    "\n",
    "num_partitions = 4\n",
    "rdd = sc.parallelize(A, num_partitions).cache()\n",
    "print(rdd.collect())\n",
    "sums = rdd.mapPartitions(compute_sum).collect()\n",
    "print(sums)\n",
    "LmRms = rdd.mapPartitionsWithIndex(compute_LmRm).collect()\n",
    "print(LmRms)\n",
    "best = max(rdd.mapPartitions(linear_time).collect())\n",
    "\n",
    "for i in range(num_partitions-1):\n",
    "    for j in range(i+1, num_partitions):\n",
    "        x = LmRms[i][0] + sum(sums[i+1:j]) + LmRms[j][1]\n",
    "        if x > best:\n",
    "            best = x\n",
    "\n",
    "print(best)"
   ]
  },
  {
   "cell_type": "code",
   "execution_count": 14,
   "metadata": {},
   "outputs": [
    {
     "data": {
      "text/plain": [
       "(42, 56)"
      ]
     },
     "execution_count": 14,
     "metadata": {},
     "output_type": "execute_result"
    }
   ],
   "source": [
    "import time\n",
    "from operator import add\n",
    "\n",
    "data = sc.parallelize(range(0,10)).filter(lambda x: x<=int(time.time())%10)\n",
    "\n",
    "data.map(lambda x:x+1).reduce(add) + data.map(lambda x: x-1).reduce(add),data.reduce(add)*2"
   ]
  },
  {
   "cell_type": "code",
   "execution_count": 12,
   "metadata": {},
   "outputs": [
    {
     "data": {
      "text/plain": [
       "0"
      ]
     },
     "execution_count": 12,
     "metadata": {},
     "output_type": "execute_result"
    }
   ],
   "source": []
  },
  {
   "cell_type": "code",
   "execution_count": null,
   "metadata": {},
   "outputs": [],
   "source": []
  }
 ],
 "metadata": {
  "kernelspec": {
   "display_name": "Python 3 (ipykernel)",
   "language": "python",
   "name": "python3"
  },
  "language_info": {
   "codemirror_mode": {
    "name": "ipython",
    "version": 3
   },
   "file_extension": ".py",
   "mimetype": "text/x-python",
   "name": "python",
   "nbconvert_exporter": "python",
   "pygments_lexer": "ipython3",
   "version": "3.8.12"
  }
 },
 "nbformat": 4,
 "nbformat_minor": 4
}
