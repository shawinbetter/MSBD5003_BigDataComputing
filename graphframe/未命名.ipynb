{
 "cells": [
  {
   "cell_type": "code",
   "execution_count": 1,
   "id": "fe34ba82-3a08-437d-8205-690fcc7a8e95",
   "metadata": {},
   "outputs": [],
   "source": [
    "from graphframes import *\n",
    "from pyspark.sql.functions import *"
   ]
  },
  {
   "cell_type": "code",
   "execution_count": 19,
   "id": "26191ae6-5e7f-4d87-962f-53c932ba3681",
   "metadata": {},
   "outputs": [
    {
     "name": "stdout",
     "output_type": "stream",
     "text": [
      "+---+-------+---+\n",
      "| id|   name|age|\n",
      "+---+-------+---+\n",
      "|  a|  Alice| 34|\n",
      "|  b|    Bob| 36|\n",
      "|  c|Charlie| 37|\n",
      "|  d|  David| 29|\n",
      "|  e| Esther| 32|\n",
      "|  f|  Fanny| 38|\n",
      "|  g|  Gabby| 60|\n",
      "+---+-------+---+\n",
      "\n",
      "+---+---+------------+\n",
      "|src|dst|relationship|\n",
      "+---+---+------------+\n",
      "|  a|  b|      friend|\n",
      "|  b|  c|      follow|\n",
      "|  c|  b|      follow|\n",
      "|  f|  c|      follow|\n",
      "|  e|  f|      follow|\n",
      "|  e|  d|      friend|\n",
      "|  d|  a|      friend|\n",
      "|  a|  e|      friend|\n",
      "|  g|  e|      follow|\n",
      "+---+---+------------+\n",
      "\n"
     ]
    }
   ],
   "source": [
    "# Vertics DataFrame\n",
    "v = spark.createDataFrame([\n",
    "  (\"a\", \"Alice\", 34),\n",
    "  (\"b\", \"Bob\", 36),\n",
    "  (\"c\", \"Charlie\", 37),\n",
    "  (\"d\", \"David\", 29),\n",
    "  (\"e\", \"Esther\", 32),\n",
    "  (\"f\", \"Fanny\", 38),\n",
    "  (\"g\", \"Gabby\", 60)\n",
    "], [\"id\", \"name\", \"age\"]) #id is compulsory\n",
    "\n",
    "# Edges DataFrame\n",
    "e = spark.createDataFrame([\n",
    "  (\"a\", \"b\", \"friend\"),\n",
    "  (\"b\", \"c\", \"follow\"),\n",
    "  (\"c\", \"b\", \"follow\"),\n",
    "  (\"f\", \"c\", \"follow\"),\n",
    "  (\"e\", \"f\", \"follow\"),\n",
    "  (\"e\", \"d\", \"friend\"),\n",
    "  (\"d\", \"a\", \"friend\"),\n",
    "  (\"a\", \"e\", \"friend\"),\n",
    "  (\"g\", \"e\", \"follow\")\n",
    "], [\"src\", \"dst\", \"relationship\"]) #src, dst are compulsory\n",
    "\n",
    "# Create a GraphFrame\n",
    "g = GraphFrame(v, e)\n",
    "\n",
    "g.vertices.show()\n",
    "g.edges.show()"
   ]
  },
  {
   "cell_type": "code",
   "execution_count": 37,
   "id": "9c4efe70-0f91-4725-b699-c0aa0cc43282",
   "metadata": {},
   "outputs": [
    {
     "name": "stdout",
     "output_type": "stream",
     "text": [
      "+--------------------------------+\n",
      "|Alice's two-hop neighbors' names|\n",
      "+--------------------------------+\n",
      "|                           Fanny|\n",
      "|                           David|\n",
      "|                         Charlie|\n",
      "+--------------------------------+\n",
      "\n"
     ]
    }
   ],
   "source": [
    "from pyspark.sql.functions import udf\n",
    "get_name = udf(lambda s: s[1])\n",
    "ans = g.find(\"(a)-[]->(b); (b)-[]->(c) \").filter(\"a.id < b.id AND a.id < c.id AND a.name = 'Alice' \")\n",
    "ans.select(get_name(ans['c']).alias(\"Alice's two-hop neighbors' names\")).show()"
   ]
  },
  {
   "cell_type": "code",
   "execution_count": 36,
   "id": "a0292b39-0148-4816-b542-7350a22f16c5",
   "metadata": {},
   "outputs": [
    {
     "name": "stderr",
     "output_type": "stream",
     "text": [
      "                                                                                \r"
     ]
    },
    {
     "name": "stdout",
     "output_type": "stream",
     "text": [
      "+--------------------------------+\n",
      "|Alice's two-hop neighbors' names|\n",
      "+--------------------------------+\n",
      "|                           Fanny|\n",
      "|                         Charlie|\n",
      "+--------------------------------+\n",
      "\n"
     ]
    }
   ],
   "source": [
    "from pyspark.sql.functions import udf\n",
    "get_name = udf(lambda s: s[1])\n",
    "ans = g.find(\"(a)-[]->(b); (b)-[]->(c); !(c)-[]->(a) \").filter(\"a.id < b.id AND a.id < c.id AND a.name = 'Alice' \")\n",
    "ans.select(get_name(ans['c']).alias(\"Alice's two-hop neighbors' names\")).show()"
   ]
  },
  {
   "cell_type": "code",
   "execution_count": 41,
   "id": "9d6813c9-becb-4cc1-92b5-1d7446749e86",
   "metadata": {},
   "outputs": [
    {
     "name": "stdout",
     "output_type": "stream",
     "text": [
      "+---------------------+\n",
      "|Person follow Charlie|\n",
      "+---------------------+\n",
      "|                Fanny|\n",
      "|                  Bob|\n",
      "+---------------------+\n",
      "\n"
     ]
    }
   ],
   "source": [
    "from pyspark.sql.functions import udf\n",
    "get_name = udf(lambda s: s[1])\n",
    "ans = g.find(\"(a)-[e]->(b)\").filter(\"b.name = 'Charlie' AND e.relationship = 'follow'\")\n",
    "ans.select(get_name(ans['a']).alias(\"Person follow Charlie\")).show()"
   ]
  },
  {
   "cell_type": "code",
   "execution_count": 52,
   "id": "45464a8c-4067-468d-9331-5f8437b085b6",
   "metadata": {},
   "outputs": [
    {
     "name": "stdout",
     "output_type": "stream",
     "text": [
      "+--------------------------------------+\n",
      "|Person followed by at least two person|\n",
      "+--------------------------------------+\n",
      "|                               Charlie|\n",
      "+--------------------------------------+\n",
      "\n"
     ]
    }
   ],
   "source": [
    "from pyspark.sql.functions import udf\n",
    "get_name = udf(lambda s: s[1])\n",
    "ans = g.find(\"(a)-[e]->(b)\").filter(\"e.relationship = 'follow'\")\n",
    "fans_count = ans.groupby('b').count()\n",
    "at_least_two_fans = fans_count.select('b').where('count >= 2')\n",
    "at_least_two_fans.select(get_name(at_least_two_fans['b']).alias(\"Person followed by at least two person\")).show()"
   ]
  },
  {
   "cell_type": "code",
   "execution_count": null,
   "id": "eed05f2b-4805-4669-a4e7-984b7b6ab869",
   "metadata": {},
   "outputs": [],
   "source": []
  }
 ],
 "metadata": {
  "kernelspec": {
   "display_name": "Python 3 (ipykernel)",
   "language": "python",
   "name": "python3"
  },
  "language_info": {
   "codemirror_mode": {
    "name": "ipython",
    "version": 3
   },
   "file_extension": ".py",
   "mimetype": "text/x-python",
   "name": "python",
   "nbconvert_exporter": "python",
   "pygments_lexer": "ipython3",
   "version": "3.8.12"
  }
 },
 "nbformat": 4,
 "nbformat_minor": 5
}
