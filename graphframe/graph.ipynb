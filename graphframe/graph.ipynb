{
 "cells": [
  {
   "cell_type": "code",
   "execution_count": 41,
   "metadata": {},
   "outputs": [],
   "source": [
    "# sc.addPyFile(\"../graphframes-0.8.0-spark3.0-s_2.12.jar\")"
   ]
  },
  {
   "cell_type": "code",
   "execution_count": 1,
   "metadata": {},
   "outputs": [],
   "source": [
    "from graphframes import *\n",
    "from pyspark.sql.functions import *"
   ]
  },
  {
   "cell_type": "code",
   "execution_count": 2,
   "metadata": {},
   "outputs": [
    {
     "name": "stderr",
     "output_type": "stream",
     "text": [
      "                                                                                \r"
     ]
    },
    {
     "name": "stdout",
     "output_type": "stream",
     "text": [
      "+---+-------+---+\n",
      "| id|   name|age|\n",
      "+---+-------+---+\n",
      "|  a|  Alice| 34|\n",
      "|  b|    Bob| 36|\n",
      "|  c|Charlie| 37|\n",
      "|  d|  David| 29|\n",
      "|  e| Esther| 32|\n",
      "|  f|  Fanny| 38|\n",
      "|  g|  Gabby| 60|\n",
      "+---+-------+---+\n",
      "\n",
      "+---+---+------------+\n",
      "|src|dst|relationship|\n",
      "+---+---+------------+\n",
      "|  a|  b|      friend|\n",
      "|  b|  c|      follow|\n",
      "|  c|  b|      follow|\n",
      "|  f|  c|      follow|\n",
      "|  e|  f|      follow|\n",
      "|  e|  d|      friend|\n",
      "|  d|  a|      friend|\n",
      "|  a|  e|      friend|\n",
      "|  g|  e|      follow|\n",
      "+---+---+------------+\n",
      "\n"
     ]
    }
   ],
   "source": [
    "# Vertics DataFrame\n",
    "v = spark.createDataFrame([\n",
    "  (\"a\", \"Alice\", 34),\n",
    "  (\"b\", \"Bob\", 36),\n",
    "  (\"c\", \"Charlie\", 37),\n",
    "  (\"d\", \"David\", 29),\n",
    "  (\"e\", \"Esther\", 32),\n",
    "  (\"f\", \"Fanny\", 38),\n",
    "  (\"g\", \"Gabby\", 60)\n",
    "], [\"id\", \"name\", \"age\"]) #id is compulsory\n",
    "\n",
    "# Edges DataFrame\n",
    "e = spark.createDataFrame([\n",
    "  (\"a\", \"b\", \"friend\"),\n",
    "  (\"b\", \"c\", \"follow\"),\n",
    "  (\"c\", \"b\", \"follow\"),\n",
    "  (\"f\", \"c\", \"follow\"),\n",
    "  (\"e\", \"f\", \"follow\"),\n",
    "  (\"e\", \"d\", \"friend\"),\n",
    "  (\"d\", \"a\", \"friend\"),\n",
    "  (\"a\", \"e\", \"friend\"),\n",
    "  (\"g\", \"e\", \"follow\")\n",
    "], [\"src\", \"dst\", \"relationship\"]) #src, dst are compulsory\n",
    "\n",
    "# Create a GraphFrame\n",
    "g = GraphFrame(v, e)\n",
    "\n",
    "g.vertices.show()\n",
    "g.edges.show()"
   ]
  },
  {
   "cell_type": "code",
   "execution_count": 3,
   "metadata": {},
   "outputs": [
    {
     "name": "stdout",
     "output_type": "stream",
     "text": [
      "+---+---+------------+\n",
      "|src|dst|relationship|\n",
      "+---+---+------------+\n",
      "|  a|  b|      friend|\n",
      "|  a|  e|      friend|\n",
      "+---+---+------------+\n",
      "\n"
     ]
    }
   ],
   "source": [
    "# g.vertices and g.edges are just DataFrames\n",
    "# You can use any DataFrame API on them\n",
    "\n",
    "g.edges.filter(\"src = 'a'\").show()"
   ]
  },
  {
   "cell_type": "code",
   "execution_count": 4,
   "metadata": {},
   "outputs": [
    {
     "data": {
      "text/plain": [
       "2"
      ]
     },
     "execution_count": 4,
     "metadata": {},
     "output_type": "execute_result"
    }
   ],
   "source": [
    "g.edges.filter(\"src = 'a'\").count()"
   ]
  },
  {
   "cell_type": "code",
   "execution_count": 5,
   "metadata": {},
   "outputs": [
    {
     "name": "stdout",
     "output_type": "stream",
     "text": [
      "2\n"
     ]
    }
   ],
   "source": [
    "# Count the number of followers of c.\n",
    "# This queries the edge DataFrame.\n",
    "print(g.edges.filter(\"relationship = 'follow' and dst = 'c'\").count())"
   ]
  },
  {
   "cell_type": "code",
   "execution_count": 8,
   "metadata": {},
   "outputs": [
    {
     "name": "stdout",
     "output_type": "stream",
     "text": [
      "+---+---------+\n",
      "| id|outDegree|\n",
      "+---+---------+\n",
      "|  g|        1|\n",
      "|  f|        1|\n",
      "|  e|        2|\n",
      "|  d|        1|\n",
      "|  c|        1|\n",
      "|  b|        1|\n",
      "|  a|        2|\n",
      "+---+---------+\n",
      "\n"
     ]
    }
   ],
   "source": [
    "# A GraphFrame has additional attributes\n",
    "\n",
    "g.outDegrees.show() #return dataframe"
   ]
  },
  {
   "cell_type": "code",
   "execution_count": 9,
   "metadata": {},
   "outputs": [
    {
     "name": "stdout",
     "output_type": "stream",
     "text": [
      "+---+--------+\n",
      "| id|inDegree|\n",
      "+---+--------+\n",
      "|  f|       1|\n",
      "|  e|       2|\n",
      "|  d|       1|\n",
      "|  c|       2|\n",
      "|  b|       2|\n",
      "|  a|       1|\n",
      "+---+--------+\n",
      "\n"
     ]
    }
   ],
   "source": [
    "g.inDegrees.show() #data frame also non-materia, same as RDD. exists when action"
   ]
  },
  {
   "cell_type": "code",
   "execution_count": 9,
   "metadata": {},
   "outputs": [
    {
     "name": "stdout",
     "output_type": "stream",
     "text": [
      "== Physical Plan ==\n",
      "*(2) HashAggregate(keys=[dst#45], functions=[count(1)])\n",
      "+- Exchange hashpartitioning(dst#45, 200), true, [id=#171]\n",
      "   +- *(1) HashAggregate(keys=[dst#45], functions=[partial_count(1)])\n",
      "      +- *(1) Project [dst#45]\n",
      "         +- *(1) Scan ExistingRDD[src#44,dst#45,relationship#46]\n",
      "\n",
      "\n"
     ]
    }
   ],
   "source": [
    "g.inDegrees.explain()"
   ]
  },
  {
   "cell_type": "code",
   "execution_count": 10,
   "metadata": {},
   "outputs": [
    {
     "name": "stdout",
     "output_type": "stream",
     "text": [
      "+---+--------+\n",
      "| id|inDegree|\n",
      "+---+--------+\n",
      "|  f|       1|\n",
      "|  e|       2|\n",
      "|  d|       1|\n",
      "|  c|       2|\n",
      "|  b|       2|\n",
      "|  a|       1|\n",
      "+---+--------+\n",
      "\n"
     ]
    }
   ],
   "source": [
    "myInDegrees = g.edges.groupBy('dst').count()\\\n",
    "               .withColumnRenamed('dst', 'id').withColumnRenamed('count', 'inDegree')\n",
    "myInDegrees.show()"
   ]
  },
  {
   "cell_type": "code",
   "execution_count": 11,
   "metadata": {},
   "outputs": [
    {
     "name": "stdout",
     "output_type": "stream",
     "text": [
      "== Physical Plan ==\n",
      "*(2) HashAggregate(keys=[dst#45], functions=[count(1)])\n",
      "+- Exchange hashpartitioning(dst#45, 200), true, [id=#218]\n",
      "   +- *(1) HashAggregate(keys=[dst#45], functions=[partial_count(1)])\n",
      "      +- *(1) Project [dst#45]\n",
      "         +- *(1) Scan ExistingRDD[src#44,dst#45,relationship#46]\n",
      "\n",
      "\n"
     ]
    }
   ],
   "source": [
    "myInDegrees.explain() #same as the plan of in-degree"
   ]
  },
  {
   "cell_type": "code",
   "execution_count": 14,
   "metadata": {},
   "outputs": [
    {
     "name": "stdout",
     "output_type": "stream",
     "text": [
      "Serialized 1x Replicated\n"
     ]
    }
   ],
   "source": [
    "print(g.inDegrees.storageLevel)"
   ]
  },
  {
   "cell_type": "code",
   "execution_count": 15,
   "metadata": {},
   "outputs": [
    {
     "data": {
      "text/plain": [
       "DataFrame[id: string, inDegree: int]"
      ]
     },
     "execution_count": 15,
     "metadata": {},
     "output_type": "execute_result"
    }
   ],
   "source": [
    "g.inDegrees.cache()"
   ]
  },
  {
   "cell_type": "code",
   "execution_count": 16,
   "metadata": {},
   "outputs": [
    {
     "name": "stdout",
     "output_type": "stream",
     "text": [
      "Disk Memory Deserialized 1x Replicated\n"
     ]
    }
   ],
   "source": [
    "print(g.inDegrees.storageLevel) #Disk Memory means materialize"
   ]
  },
  {
   "cell_type": "code",
   "execution_count": 15,
   "metadata": {},
   "outputs": [
    {
     "name": "stdout",
     "output_type": "stream",
     "text": [
      "Serialized 1x Replicated\n"
     ]
    }
   ],
   "source": [
    "print(g.vertices.storageLevel) "
   ]
  },
  {
   "cell_type": "code",
   "execution_count": 17,
   "metadata": {},
   "outputs": [
    {
     "data": {
      "text/plain": [
       "GraphFrame(v:[id: string, name: string ... 1 more field], e:[src: string, dst: string ... 1 more field])"
      ]
     },
     "execution_count": 17,
     "metadata": {},
     "output_type": "execute_result"
    }
   ],
   "source": [
    "g.cache()"
   ]
  },
  {
   "cell_type": "code",
   "execution_count": 18,
   "metadata": {},
   "outputs": [
    {
     "name": "stdout",
     "output_type": "stream",
     "text": [
      "Disk Memory Deserialized 1x Replicated\n",
      "Disk Memory Deserialized 1x Replicated\n"
     ]
    }
   ],
   "source": [
    "print(g.vertices.storageLevel) \n",
    "print(g.edges.storageLevel)"
   ]
  },
  {
   "cell_type": "code",
   "execution_count": 19,
   "metadata": {},
   "outputs": [
    {
     "name": "stderr",
     "output_type": "stream",
     "text": [
      "                                                                                \r"
     ]
    },
    {
     "name": "stdout",
     "output_type": "stream",
     "text": [
      "+----------------+--------------+----------------+\n",
      "|             src|          edge|             dst|\n",
      "+----------------+--------------+----------------+\n",
      "| [e, Esther, 32]|[e, f, follow]|  [f, Fanny, 38]|\n",
      "|  [g, Gabby, 60]|[g, e, follow]| [e, Esther, 32]|\n",
      "|  [a, Alice, 34]|[a, e, friend]| [e, Esther, 32]|\n",
      "| [e, Esther, 32]|[e, d, friend]|  [d, David, 29]|\n",
      "|  [f, Fanny, 38]|[f, c, follow]|[c, Charlie, 37]|\n",
      "|    [b, Bob, 36]|[b, c, follow]|[c, Charlie, 37]|\n",
      "|[c, Charlie, 37]|[c, b, follow]|    [b, Bob, 36]|\n",
      "|  [a, Alice, 34]|[a, b, friend]|    [b, Bob, 36]|\n",
      "|  [d, David, 29]|[d, a, friend]|  [a, Alice, 34]|\n",
      "+----------------+--------------+----------------+\n",
      "\n"
     ]
    }
   ],
   "source": [
    "# A triplet view of the graph\n",
    "\n",
    "g.triplets.show() #not efficient"
   ]
  },
  {
   "cell_type": "code",
   "execution_count": 20,
   "metadata": {},
   "outputs": [
    {
     "name": "stdout",
     "output_type": "stream",
     "text": [
      "== Physical Plan ==\n",
      "*(3) Project [src#225, edge#223, dst#227]\n",
      "+- *(3) BroadcastHashJoin [edge#223.dst], [dst#227.id], Inner, BuildRight\n",
      "   :- *(3) BroadcastHashJoin [edge#223.src], [src#225.id], Inner, BuildRight\n",
      "   :  :- *(3) Project [struct(src, src#6, dst, dst#7, relationship, relationship#8) AS edge#223]\n",
      "   :  :  +- InMemoryTableScan [dst#7, relationship#8, src#6]\n",
      "   :  :        +- InMemoryRelation [src#6, dst#7, relationship#8], StorageLevel(disk, memory, deserialized, 1 replicas)\n",
      "   :  :              +- *(1) Scan ExistingRDD[src#6,dst#7,relationship#8]\n",
      "   :  +- BroadcastExchange HashedRelationBroadcastMode(List(input[0, struct<id:string,name:string,age:bigint>, false].id)), [id=#389]\n",
      "   :     +- *(1) Project [struct(id, id#0, name, name#1, age, age#2L) AS src#225]\n",
      "   :        +- InMemoryTableScan [age#2L, id#0, name#1]\n",
      "   :              +- InMemoryRelation [id#0, name#1, age#2L], StorageLevel(disk, memory, deserialized, 1 replicas)\n",
      "   :                    +- *(1) Scan ExistingRDD[id#0,name#1,age#2L]\n",
      "   +- BroadcastExchange HashedRelationBroadcastMode(List(input[0, struct<id:string,name:string,age:bigint>, false].id)), [id=#395]\n",
      "      +- *(2) Project [struct(id, id#0, name, name#1, age, age#2L) AS dst#227]\n",
      "         +- InMemoryTableScan [age#2L, id#0, name#1]\n",
      "               +- InMemoryRelation [id#0, name#1, age#2L], StorageLevel(disk, memory, deserialized, 1 replicas)\n",
      "                     +- *(1) Scan ExistingRDD[id#0,name#1,age#2L]\n",
      "\n",
      "\n"
     ]
    }
   ],
   "source": [
    "g.triplets.explain()"
   ]
  },
  {
   "cell_type": "markdown",
   "metadata": {},
   "source": [
    "### Motif Finding"
   ]
  },
  {
   "cell_type": "code",
   "execution_count": 23,
   "metadata": {},
   "outputs": [
    {
     "name": "stdout",
     "output_type": "stream",
     "text": [
      "+------------+----------------+\n",
      "|           a|               b|\n",
      "+------------+----------------+\n",
      "|[b, Bob, 36]|[c, Charlie, 37]|\n",
      "+------------+----------------+\n",
      "\n"
     ]
    }
   ],
   "source": [
    "# Search for pairs of vertices with edges in both directions between them.\n",
    "motifs = g.find(\"(a)-[]->(b); (b)-[]->(a)\").filter('a.id < b.id') #delte c->b\n",
    "motifs.show()"
   ]
  },
  {
   "cell_type": "code",
   "execution_count": 25,
   "metadata": {},
   "outputs": [
    {
     "name": "stdout",
     "output_type": "stream",
     "text": [
      "+--------------+---------------+--------------+\n",
      "|             a|              b|             c|\n",
      "+--------------+---------------+--------------+\n",
      "|[a, Alice, 34]|[e, Esther, 32]|[d, David, 29]|\n",
      "+--------------+---------------+--------------+\n",
      "\n"
     ]
    }
   ],
   "source": [
    "# Find triangles\n",
    "\n",
    "triangles = g.find(\"(a)-[]->(b); (b)-[]->(c); (c)-[]->(a)\")\n",
    "triangles = triangles.filter(\"a.id < b.id AND a.id < c.id\") #cannot use b.id < c.id\n",
    "triangles.show()"
   ]
  },
  {
   "cell_type": "code",
   "execution_count": 26,
   "metadata": {},
   "outputs": [
    {
     "name": "stdout",
     "output_type": "stream",
     "text": [
      "== Physical Plan ==\n",
      "*(6) Project [a#1611, b#1613, c#1638]\n",
      "+- *(6) BroadcastHashJoin [c#1638.id, a#1611.id], [__tmp2506060614762666678#1668.src, __tmp2506060614762666678#1668.dst], Inner, BuildRight\n",
      "   :- *(6) Project [a#1611, b#1613, c#1638]\n",
      "   :  +- *(6) BroadcastHashJoin [__tmp-3851898762290097694#1636.dst], [c#1638.id], Inner, BuildRight, (a#1611.id < c#1638.id)\n",
      "   :     :- *(6) BroadcastHashJoin [b#1613.id], [__tmp-3851898762290097694#1636.src], Inner, BuildRight\n",
      "   :     :  :- *(6) Project [a#1611, b#1613]\n",
      "   :     :  :  +- *(6) BroadcastHashJoin [__tmp-4480780508598698291#1609.dst], [b#1613.id], Inner, BuildRight, (a#1611.id < b#1613.id)\n",
      "   :     :  :     :- *(6) BroadcastHashJoin [__tmp-4480780508598698291#1609.src], [a#1611.id], Inner, BuildRight\n",
      "   :     :  :     :  :- *(6) Project [struct(src, src#6, dst, dst#7, relationship, relationship#8) AS __tmp-4480780508598698291#1609]\n",
      "   :     :  :     :  :  +- InMemoryTableScan [dst#7, relationship#8, src#6]\n",
      "   :     :  :     :  :        +- InMemoryRelation [src#6, dst#7, relationship#8], StorageLevel(disk, memory, deserialized, 1 replicas)\n",
      "   :     :  :     :  :              +- *(1) Scan ExistingRDD[src#6,dst#7,relationship#8]\n",
      "   :     :  :     :  +- BroadcastExchange HashedRelationBroadcastMode(List(input[0, struct<id:string,name:string,age:bigint>, false].id)), [id=#982]\n",
      "   :     :  :     :     +- *(1) Project [struct(id, id#0, name, name#1, age, age#2L) AS a#1611]\n",
      "   :     :  :     :        +- InMemoryTableScan [age#2L, id#0, name#1]\n",
      "   :     :  :     :              +- InMemoryRelation [id#0, name#1, age#2L], StorageLevel(disk, memory, deserialized, 1 replicas)\n",
      "   :     :  :     :                    +- *(1) Scan ExistingRDD[id#0,name#1,age#2L]\n",
      "   :     :  :     +- BroadcastExchange HashedRelationBroadcastMode(List(input[0, struct<id:string,name:string,age:bigint>, false].id)), [id=#988]\n",
      "   :     :  :        +- *(2) Project [struct(id, id#0, name, name#1, age, age#2L) AS b#1613]\n",
      "   :     :  :           +- InMemoryTableScan [age#2L, id#0, name#1]\n",
      "   :     :  :                 +- InMemoryRelation [id#0, name#1, age#2L], StorageLevel(disk, memory, deserialized, 1 replicas)\n",
      "   :     :  :                       +- *(1) Scan ExistingRDD[id#0,name#1,age#2L]\n",
      "   :     :  +- BroadcastExchange HashedRelationBroadcastMode(List(input[0, struct<src:string,dst:string,relationship:string>, false].src)), [id=#995]\n",
      "   :     :     +- *(3) Project [struct(src, src#6, dst, dst#7, relationship, relationship#8) AS __tmp-3851898762290097694#1636]\n",
      "   :     :        +- InMemoryTableScan [dst#7, relationship#8, src#6]\n",
      "   :     :              +- InMemoryRelation [src#6, dst#7, relationship#8], StorageLevel(disk, memory, deserialized, 1 replicas)\n",
      "   :     :                    +- *(1) Scan ExistingRDD[src#6,dst#7,relationship#8]\n",
      "   :     +- BroadcastExchange HashedRelationBroadcastMode(List(input[0, struct<id:string,name:string,age:bigint>, false].id)), [id=#1001]\n",
      "   :        +- *(4) Project [struct(id, id#0, name, name#1, age, age#2L) AS c#1638]\n",
      "   :           +- InMemoryTableScan [age#2L, id#0, name#1]\n",
      "   :                 +- InMemoryRelation [id#0, name#1, age#2L], StorageLevel(disk, memory, deserialized, 1 replicas)\n",
      "   :                       +- *(1) Scan ExistingRDD[id#0,name#1,age#2L]\n",
      "   +- BroadcastExchange HashedRelationBroadcastMode(List(input[0, struct<src:string,dst:string,relationship:string>, false].src, input[0, struct<src:string,dst:string,relationship:string>, false].dst)), [id=#1008]\n",
      "      +- *(5) Project [struct(src, src#6, dst, dst#7, relationship, relationship#8) AS __tmp2506060614762666678#1668]\n",
      "         +- InMemoryTableScan [dst#7, relationship#8, src#6]\n",
      "               +- InMemoryRelation [src#6, dst#7, relationship#8], StorageLevel(disk, memory, deserialized, 1 replicas)\n",
      "                     +- *(1) Scan ExistingRDD[src#6,dst#7,relationship#8]\n",
      "\n",
      "\n"
     ]
    }
   ],
   "source": [
    "triangles.explain()"
   ]
  },
  {
   "cell_type": "code",
   "execution_count": 28,
   "metadata": {},
   "outputs": [
    {
     "name": "stderr",
     "output_type": "stream",
     "text": [
      "                                                                                \r"
     ]
    },
    {
     "name": "stdout",
     "output_type": "stream",
     "text": [
      "+---------------+----------------+\n",
      "|              a|               b|\n",
      "+---------------+----------------+\n",
      "| [a, Alice, 34]| [e, Esther, 32]|\n",
      "|[e, Esther, 32]|  [d, David, 29]|\n",
      "| [a, Alice, 34]|    [b, Bob, 36]|\n",
      "| [g, Gabby, 60]| [e, Esther, 32]|\n",
      "|[e, Esther, 32]|  [f, Fanny, 38]|\n",
      "| [f, Fanny, 38]|[c, Charlie, 37]|\n",
      "| [d, David, 29]|  [a, Alice, 34]|\n",
      "+---------------+----------------+\n",
      "\n"
     ]
    }
   ],
   "source": [
    "# Negation\n",
    "oneway = g.find(\"(a)-[]->(b); !(b)-[]->(a)\")\n",
    "oneway.show()"
   ]
  },
  {
   "cell_type": "code",
   "execution_count": 29,
   "metadata": {},
   "outputs": [
    {
     "name": "stdout",
     "output_type": "stream",
     "text": [
      "+--------------+\n",
      "|             a|\n",
      "+--------------+\n",
      "|[g, Gabby, 60]|\n",
      "+--------------+\n",
      "\n"
     ]
    }
   ],
   "source": [
    "# Find vertices without incoming edges:\n",
    "g.find(\"!()-[]->(a)\").show()"
   ]
  },
  {
   "cell_type": "code",
   "execution_count": 33,
   "metadata": {},
   "outputs": [
    {
     "name": "stdout",
     "output_type": "stream",
     "text": [
      "+------------+--------------+----------------+\n",
      "|           a|             e|               b|\n",
      "+------------+--------------+----------------+\n",
      "|[b, Bob, 36]|[b, c, follow]|[c, Charlie, 37]|\n",
      "+------------+--------------+----------------+\n",
      "\n"
     ]
    }
   ],
   "source": [
    "# More meaningful queries can be expressed by applying filters.\n",
    "# Question: where is this filter applied?\n",
    "\n",
    "g.find(\"(a)-[e]->(b); (b)-[]->(a)\").filter(\"b.age > 36\").show() #e can not appear at both [], cause confusion "
   ]
  },
  {
   "cell_type": "code",
   "execution_count": 38,
   "metadata": {},
   "outputs": [
    {
     "name": "stdout",
     "output_type": "stream",
     "text": [
      "== Physical Plan ==\n",
      "*(4) Project [a#6606, b#6608]\n",
      "+- *(4) BroadcastHashJoin [b#6608.id, a#6606.id], [__tmp-753465915533410812#6631.src, __tmp-753465915533410812#6631.dst], Inner, BuildRight\n",
      "   :- *(4) Project [a#6606, b#6608]\n",
      "   :  +- *(4) BroadcastHashJoin [__tmp4002724160828027973#6604.dst], [b#6608.id], Inner, BuildRight\n",
      "   :     :- *(4) BroadcastHashJoin [__tmp4002724160828027973#6604.src], [a#6606.id], Inner, BuildRight\n",
      "   :     :  :- *(4) Project [struct(src, src#44, dst, dst#45, relationship, relationship#46) AS __tmp4002724160828027973#6604]\n",
      "   :     :  :  +- InMemoryTableScan [dst#45, relationship#46, src#44]\n",
      "   :     :  :        +- InMemoryRelation [src#44, dst#45, relationship#46], StorageLevel(disk, memory, deserialized, 1 replicas)\n",
      "   :     :  :              +- *(1) Scan ExistingRDD[src#44,dst#45,relationship#46]\n",
      "   :     :  +- BroadcastExchange HashedRelationBroadcastMode(List(input[0, struct<id:string,name:string,age:bigint>, false].id)), [id=#2800]\n",
      "   :     :     +- *(1) Project [struct(id, id#38, name, name#39, age, age#40L) AS a#6606]\n",
      "   :     :        +- InMemoryTableScan [age#40L, id#38, name#39]\n",
      "   :     :              +- InMemoryRelation [id#38, name#39, age#40L], StorageLevel(disk, memory, deserialized, 1 replicas)\n",
      "   :     :                    +- *(1) Scan ExistingRDD[id#38,name#39,age#40L]\n",
      "   :     +- BroadcastExchange HashedRelationBroadcastMode(List(input[0, struct<id:string,name:string,age:bigint>, false].id)), [id=#2807]\n",
      "   :        +- *(2) Project [struct(id, id#38, name, name#39, age, age#40L) AS b#6608]\n",
      "   :           +- *(2) Filter (isnotnull(age#40L) AND (age#40L > 36))\n",
      "   :              +- InMemoryTableScan [age#40L, id#38, name#39], [isnotnull(age#40L), (age#40L > 36)]\n",
      "   :                    +- InMemoryRelation [id#38, name#39, age#40L], StorageLevel(disk, memory, deserialized, 1 replicas)\n",
      "   :                          +- *(1) Scan ExistingRDD[id#38,name#39,age#40L]\n",
      "   +- BroadcastExchange HashedRelationBroadcastMode(List(input[0, struct<src:string,dst:string,relationship:string>, false].src, input[0, struct<src:string,dst:string,relationship:string>, false].dst)), [id=#2814]\n",
      "      +- *(3) Project [struct(src, src#44, dst, dst#45, relationship, relationship#46) AS __tmp-753465915533410812#6631]\n",
      "         +- InMemoryTableScan [dst#45, relationship#46, src#44]\n",
      "               +- InMemoryRelation [src#44, dst#45, relationship#46], StorageLevel(disk, memory, deserialized, 1 replicas)\n",
      "                     +- *(1) Scan ExistingRDD[src#44,dst#45,relationship#46]\n",
      "\n",
      "\n"
     ]
    }
   ],
   "source": [
    "g.find(\"(a)-[]->(b); (b)-[]->(a)\").filter(\"b.age > 36\").explain()"
   ]
  },
  {
   "cell_type": "code",
   "execution_count": 34,
   "metadata": {},
   "outputs": [
    {
     "name": "stdout",
     "output_type": "stream",
     "text": [
      "+---------------+---------------+---------------+----------------+\n",
      "|              a|              b|              c|               d|\n",
      "+---------------+---------------+---------------+----------------+\n",
      "|[e, Esther, 32]| [d, David, 29]| [a, Alice, 34]|    [b, Bob, 36]|\n",
      "| [d, David, 29]| [a, Alice, 34]|[e, Esther, 32]|  [f, Fanny, 38]|\n",
      "| [d, David, 29]| [a, Alice, 34]|   [b, Bob, 36]|[c, Charlie, 37]|\n",
      "| [g, Gabby, 60]|[e, Esther, 32]| [d, David, 29]|  [a, Alice, 34]|\n",
      "+---------------+---------------+---------------+----------------+\n",
      "\n"
     ]
    }
   ],
   "source": [
    "# Find chains of 4 vertices such that at least 2 of the 3 edges are \"friend\" relationships.\n",
    "# The when function is similar to the CASE WHEN in SQL\n",
    "\n",
    "chain4 = g.find(\"(a)-[e1]->(b); (b)-[e2]->(c); (c)-[e3]->(d)\").where('a!=d AND a!=c AND b!=d')\n",
    "\n",
    "friendTo1 = lambda e: when(e['relationship'] == 'friend', 1).otherwise(0)\n",
    "\n",
    "#the function will create a new column, and we will alias it\n",
    "chain4.select('*',friendTo1(chain4['e1']).alias('f1'), \\\n",
    "                  friendTo1(chain4['e2']).alias('f2'), \\\n",
    "                  friendTo1(chain4['e3']).alias('f3')) \\\n",
    "      .where('f1 + f2 + f3 >= 2').select('a', 'b', 'c', 'd').show()"
   ]
  },
  {
   "cell_type": "markdown",
   "metadata": {},
   "source": [
    "### Subgraphs"
   ]
  },
  {
   "cell_type": "code",
   "execution_count": 48,
   "metadata": {
    "scrolled": true
   },
   "outputs": [
    {
     "name": "stdout",
     "output_type": "stream",
     "text": [
      "+---+------+---+\n",
      "| id|  name|age|\n",
      "+---+------+---+\n",
      "|  a| Alice| 34|\n",
      "|  b|   Bob| 36|\n",
      "|  e|Esther| 32|\n",
      "+---+------+---+\n",
      "\n",
      "+---+---+------------+\n",
      "|src|dst|relationship|\n",
      "+---+---+------------+\n",
      "|  a|  b|      friend|\n",
      "|  a|  e|      friend|\n",
      "+---+---+------------+\n",
      "\n"
     ]
    }
   ],
   "source": [
    "# Select subgraph of users older than 30, and relationships of type \"friend\".\n",
    "# Drop isolated vertices (users) which are not contained in any edges (relationships).\n",
    "\n",
    "g1 = g.filterVertices(\"age > 30\").filterEdges(\"relationship = 'friend'\")\\\n",
    "      .dropIsolatedVertices()\n",
    "\n",
    "g1.vertices.show()\n",
    "g1.edges.show()"
   ]
  },
  {
   "cell_type": "code",
   "execution_count": 40,
   "metadata": {},
   "outputs": [
    {
     "name": "stdout",
     "output_type": "stream",
     "text": [
      "+---------------+--------------+----------------+\n",
      "|              a|             e|               b|\n",
      "+---------------+--------------+----------------+\n",
      "|   [b, Bob, 36]|[b, c, follow]|[c, Charlie, 37]|\n",
      "|[e, Esther, 32]|[e, f, follow]|  [f, Fanny, 38]|\n",
      "+---------------+--------------+----------------+\n",
      "\n"
     ]
    }
   ],
   "source": [
    "paths.show()"
   ]
  },
  {
   "cell_type": "code",
   "execution_count": 37,
   "metadata": {},
   "outputs": [
    {
     "name": "stdout",
     "output_type": "stream",
     "text": [
      "+---+-------+---+\n",
      "| id|   name|age|\n",
      "+---+-------+---+\n",
      "|  b|    Bob| 36|\n",
      "|  c|Charlie| 37|\n",
      "|  e| Esther| 32|\n",
      "|  f|  Fanny| 38|\n",
      "+---+-------+---+\n",
      "\n",
      "+---+---+------------+\n",
      "|src|dst|relationship|\n",
      "+---+---+------------+\n",
      "|  b|  c|      follow|\n",
      "|  e|  f|      follow|\n",
      "+---+---+------------+\n",
      "\n"
     ]
    }
   ],
   "source": [
    "# Select subgraph based on edges \"e\" of type \"follow\"\n",
    "# pointing from a younger user \"a\" to an older user \"b\".\n",
    "\n",
    "paths = g.find(\"(a)-[e]->(b)\")\\\n",
    "  .filter(\"e.relationship = 'follow'\")\\\n",
    "  .filter(\"a.age < b.age\")\n",
    "\n",
    "# \"paths\" contains vertex info. Extract the edges.\n",
    "\n",
    "e2 = paths.select(\"e.*\")\n",
    "\n",
    "# Construct the subgraph\n",
    "g2 = GraphFrame(g.vertices, e2).dropIsolatedVertices() #use g.vertices infomation and edge infomation\n",
    "\n",
    "g2.vertices.show()\n",
    "g2.edges.show()"
   ]
  },
  {
   "cell_type": "markdown",
   "metadata": {
    "tags": []
   },
   "source": [
    "### BFS"
   ]
  },
  {
   "cell_type": "code",
   "execution_count": 41,
   "metadata": {},
   "outputs": [
    {
     "name": "stdout",
     "output_type": "stream",
     "text": [
      "+---+---+---+------------+\n",
      "| id|src|dst|relationship|\n",
      "+---+---+---+------------+\n",
      "|  a|  a|  b|      friend|\n",
      "|  a|  a|  e|      friend|\n",
      "+---+---+---+------------+\n",
      "\n"
     ]
    },
    {
     "name": "stderr",
     "output_type": "stream",
     "text": [
      "                                                                                \r"
     ]
    },
    {
     "name": "stdout",
     "output_type": "stream",
     "text": [
      "+---+---+---+------------+\n",
      "| id|src|dst|relationship|\n",
      "+---+---+---+------------+\n",
      "|  b|  b|  c|      follow|\n",
      "|  e|  e|  f|      follow|\n",
      "|  e|  e|  d|      friend|\n",
      "+---+---+---+------------+\n",
      "\n",
      "+---+---+---+------------+\n",
      "| id|src|dst|relationship|\n",
      "+---+---+---+------------+\n",
      "|  c|  c|  b|      follow|\n",
      "|  f|  f|  c|      follow|\n",
      "|  d|  d|  a|      friend|\n",
      "+---+---+---+------------+\n",
      "\n"
     ]
    },
    {
     "name": "stderr",
     "output_type": "stream",
     "text": [
      "                                                                                \r"
     ]
    }
   ],
   "source": [
    "# Starting vertex is 'a'\n",
    "layers = [g.vertices.select('id').where(\"id = 'a'\")]\n",
    "visited =  layers[0]\n",
    "\n",
    "while layers[-1].count() > 0:\n",
    "    # From the current layer, get all the one-hop neighbors\n",
    "    d1 = layers[-1].join(g.edges, layers[-1]['id'] == g.edges['src'])\n",
    "    d1.show() #print the result\n",
    "    \n",
    "    # Rename the column as 'id', and remove visited verices and duplicates\n",
    "    d2 = d1.select(d1['dst'].alias('id')) \\\n",
    "           .subtract(visited).distinct().cache()\n",
    "    \n",
    "    layers += [d2] #all the new node visted\n",
    "    visited = visited.union(layers[-1]).cache() #layers[-1] is d2"
   ]
  },
  {
   "cell_type": "code",
   "execution_count": 44,
   "metadata": {},
   "outputs": [
    {
     "name": "stdout",
     "output_type": "stream",
     "text": [
      "+---+\n",
      "| id|\n",
      "+---+\n",
      "|  a|\n",
      "+---+\n",
      "\n"
     ]
    }
   ],
   "source": [
    "layers[0].show()"
   ]
  },
  {
   "cell_type": "code",
   "execution_count": 45,
   "metadata": {},
   "outputs": [
    {
     "name": "stdout",
     "output_type": "stream",
     "text": [
      "+---+\n",
      "| id|\n",
      "+---+\n",
      "|  e|\n",
      "|  b|\n",
      "+---+\n",
      "\n"
     ]
    }
   ],
   "source": [
    "layers[1].show()"
   ]
  },
  {
   "cell_type": "code",
   "execution_count": 46,
   "metadata": {},
   "outputs": [
    {
     "name": "stdout",
     "output_type": "stream",
     "text": [
      "+---+\n",
      "| id|\n",
      "+---+\n",
      "|  f|\n",
      "|  d|\n",
      "|  c|\n",
      "+---+\n",
      "\n"
     ]
    }
   ],
   "source": [
    "layers[2].show()"
   ]
  },
  {
   "cell_type": "code",
   "execution_count": 47,
   "metadata": {},
   "outputs": [
    {
     "name": "stdout",
     "output_type": "stream",
     "text": [
      "+---+\n",
      "| id|\n",
      "+---+\n",
      "+---+\n",
      "\n"
     ]
    }
   ],
   "source": [
    "layers[3].show()"
   ]
  },
  {
   "cell_type": "code",
   "execution_count": 48,
   "metadata": {},
   "outputs": [
    {
     "name": "stdout",
     "output_type": "stream",
     "text": [
      "+--------------+--------------+---------------+--------------+----------------+\n",
      "|          from|            e0|             v1|            e1|              to|\n",
      "+--------------+--------------+---------------+--------------+----------------+\n",
      "|[a, Alice, 34]|[a, b, friend]|   [b, Bob, 36]|[b, c, follow]|[c, Charlie, 37]|\n",
      "|[a, Alice, 34]|[a, e, friend]|[e, Esther, 32]|[e, f, follow]|  [f, Fanny, 38]|\n",
      "+--------------+--------------+---------------+--------------+----------------+\n",
      "\n"
     ]
    }
   ],
   "source": [
    "# GraphFrames provides own BFS:\n",
    "\n",
    "paths = g.bfs(\"id = 'a'\", \"age > 36\")\n",
    "paths.show()"
   ]
  },
  {
   "cell_type": "markdown",
   "metadata": {},
   "source": [
    "### List Ranking"
   ]
  },
  {
   "cell_type": "code",
   "execution_count": 64,
   "metadata": {},
   "outputs": [
    {
     "name": "stdout",
     "output_type": "stream",
     "text": [
      "+---+---+\n",
      "| id|  d|\n",
      "+---+---+\n",
      "|  0|  1|\n",
      "|  1|  1|\n",
      "|  3|  1|\n",
      "|  4|  1|\n",
      "|  5|  0|\n",
      "|  6|  1|\n",
      "| -1|  0|\n",
      "+---+---+\n",
      "\n",
      "+---+---+\n",
      "|src|dst|\n",
      "+---+---+\n",
      "|  0|  5|\n",
      "|  1|  0|\n",
      "|  3|  4|\n",
      "|  4|  6|\n",
      "|  5| -1|\n",
      "|  6|  1|\n",
      "+---+---+\n",
      "\n"
     ]
    }
   ],
   "source": [
    "# -1 denotes end of list\n",
    "data = [(0, 5), (1, 0), (3, 4), (4, 6), (5, -1), (6,1)] #[node,pointer]\n",
    "e = spark.createDataFrame(data, ['src', 'dst'])\n",
    "v = e.select(col('src').alias('id'), when(e.dst == -1, 0).otherwise(1).alias('d'))  #end has value 0, otherwise 1\n",
    "v1 = spark.createDataFrame([(-1, 0)], ['id', 'd']) #dummy id\n",
    "v = v.union(v1)\n",
    "v.show()\n",
    "e.show()"
   ]
  },
  {
   "cell_type": "code",
   "execution_count": 67,
   "metadata": {},
   "outputs": [
    {
     "name": "stdout",
     "output_type": "stream",
     "text": [
      "+---+---+\n",
      "| id|  d|\n",
      "+---+---+\n",
      "|  0|  1|\n",
      "|  1|  2|\n",
      "|  3|  5|\n",
      "|  4|  4|\n",
      "|  5|  0|\n",
      "|  6|  3|\n",
      "| -1|  0|\n",
      "+---+---+\n",
      "\n"
     ]
    }
   ],
   "source": [
    "while e.filter('dst != -1').count() > 0:\n",
    "    g = GraphFrame(v, e)\n",
    "    g.cache()\n",
    "    v = g.triplets.select(col('src.id').alias('id'), \n",
    "                          (col('src.d') + col('dst.d')).alias('d')) \\\n",
    "         .union(v1)\n",
    "    e = g.find('(a)-[]->(b); (b)-[]->(c)') \\\n",
    "         .select(col('a.id').alias('src'), col('c.id').alias('dst')) \\\n",
    "         .union(e.filter('dst = -1')) #add the dummy variable back\n",
    "v.show()"
   ]
  },
  {
   "cell_type": "markdown",
   "metadata": {},
   "source": [
    "### Message passing via AggregateMessages"
   ]
  },
  {
   "cell_type": "code",
   "execution_count": 74,
   "metadata": {},
   "outputs": [
    {
     "name": "stderr",
     "output_type": "stream",
     "text": [
      "                                                                                \r"
     ]
    },
    {
     "name": "stdout",
     "output_type": "stream",
     "text": [
      "+---+----------+\n",
      "| id|summedAges|\n",
      "+---+----------+\n",
      "|  g|        32|\n",
      "|  f|        69|\n",
      "|  e|       161|\n",
      "|  d|        66|\n",
      "|  c|       110|\n",
      "|  b|       108|\n",
      "|  a|        97|\n",
      "+---+----------+\n",
      "\n"
     ]
    }
   ],
   "source": [
    "from pyspark.sql.functions import coalesce, col, lit, sum, when, min, max\n",
    "from graphframes.lib import AggregateMessages as AM\n",
    "\n",
    "# AggregateMessages has the following members: src, dst, edge, msg\n",
    "# For each user, sum the ages of the adjacent users.\n",
    "agg = g.aggregateMessages(\n",
    "    sum(AM.msg).alias(\"summedAges\"),\n",
    "    sendToSrc = AM.dst['age'],\n",
    "    sendToDst = AM.src['age'])\n",
    "agg.show()"
   ]
  },
  {
   "cell_type": "markdown",
   "metadata": {},
   "source": [
    "### The Pregel Model for Graph Computation"
   ]
  },
  {
   "cell_type": "code",
   "execution_count": 75,
   "metadata": {},
   "outputs": [
    {
     "name": "stderr",
     "output_type": "stream",
     "text": [
      "                                                                                \r"
     ]
    },
    {
     "name": "stdout",
     "output_type": "stream",
     "text": [
      "+---+---------+-------------------+\n",
      "| id|outDegree|               rank|\n",
      "+---+---------+-------------------+\n",
      "|  g|        1|               0.15|\n",
      "|  f|        1|0.41104330078124995|\n",
      "|  e|        2| 0.5032932031249999|\n",
      "|  d|        1|0.41104330078124995|\n",
      "|  c|        1|  2.780783203124999|\n",
      "|  b|        1| 2.2680220312499997|\n",
      "|  a|        2|    0.4758149609375|\n",
      "+---+---------+-------------------+\n",
      "\n"
     ]
    }
   ],
   "source": [
    "# Pagerank in the Pregel model \n",
    "\n",
    "from pyspark.sql.functions import coalesce, col, lit, sum, when, min\n",
    "from graphframes.lib import Pregel\n",
    "\n",
    "# Need to set up a directory for Pregel computation\n",
    "sc.setCheckpointDir(\"checkpoint\")\n",
    "\n",
    "'''\n",
    "Use builder pattern to describe the operations.\n",
    "Call run() to start a run. It returns a DataFrame of vertices from the last iteration.\n",
    "\n",
    "When a run starts, it expands the vertices DataFrame using column expressions \n",
    "defined by withVertexColumn(). Those additional vertex properties can be \n",
    "changed during Pregel iterations. In each Pregel iteration, there are three \n",
    "phases:\n",
    "\n",
    "* Given each edge triplet, generate messages and specify target vertices to \n",
    "  send, described by sendMsgToDst() and sendMsgToSrc().\n",
    "* Aggregate messages by target vertex IDs, described by aggMsgs().\n",
    "* Update additional vertex properties based on aggregated messages and states \n",
    "  from previous iteration, described by withVertexColumn().\n",
    "'''\n",
    "v = g.outDegrees\n",
    "g = GraphFrame(v,e)\n",
    "ranks = g.pregel \\\n",
    "        .setMaxIter(5) \\\n",
    "        .sendMsgToDst(Pregel.src(\"rank\") / Pregel.src(\"outDegree\")) \\\n",
    "        .aggMsgs(sum(Pregel.msg())) \\\n",
    "        .withVertexColumn(\"rank\", lit(1.0), \\\n",
    "            coalesce(Pregel.msg(), lit(0.0)) * lit(0.85) + lit(0.15)) \\\n",
    "        .run()\n",
    "ranks.show()\n",
    "\n",
    "# pyspark.sql.functions.coalesce(*cols): Returns the first column that is not null.\n",
    "# Not to be confused with spark.sql.coalesce(numPartitions)\n"
   ]
  },
  {
   "cell_type": "code",
   "execution_count": 76,
   "metadata": {},
   "outputs": [
    {
     "name": "stderr",
     "output_type": "stream",
     "text": [
      "                                                                                \r"
     ]
    },
    {
     "name": "stdout",
     "output_type": "stream",
     "text": [
      "+---+---------+-----+------+\n",
      "| id|outDegree|    d|active|\n",
      "+---+---------+-----+------+\n",
      "|  g|        1|99999| false|\n",
      "|  f|        1|    2| false|\n",
      "|  e|        2|    1| false|\n",
      "|  d|        1|    2| false|\n",
      "|  c|        1|    2| false|\n",
      "|  b|        1|    1| false|\n",
      "|  a|        2|    0| false|\n",
      "+---+---------+-----+------+\n",
      "\n"
     ]
    }
   ],
   "source": [
    "# BFS in the Pregel model\n",
    "\n",
    "g = GraphFrame(v,e)\n",
    "\n",
    "dist = g.pregel \\\n",
    "        .sendMsgToDst(when(Pregel.src('active'), Pregel.src('d') + 1)) \\\n",
    "        .aggMsgs(min(Pregel.msg())) \\\n",
    "        .withVertexColumn('d', when(v['id'] == 'a', 0).otherwise(99999), \\\n",
    "            when(Pregel.msg() < col('d'), Pregel.msg()).otherwise(col('d'))) \\\n",
    "        .withVertexColumn('active', when(v['id'] == 'a', True).otherwise(False), \\\n",
    "            when(Pregel.msg() < col('d'), True).otherwise(False)) \\\n",
    "        .run()\n",
    "dist.show()\n"
   ]
  },
  {
   "cell_type": "code",
   "execution_count": null,
   "metadata": {},
   "outputs": [],
   "source": []
  }
 ],
 "metadata": {
  "kernelspec": {
   "display_name": "Python 3 (ipykernel)",
   "language": "python",
   "name": "python3"
  },
  "language_info": {
   "codemirror_mode": {
    "name": "ipython",
    "version": 3
   },
   "file_extension": ".py",
   "mimetype": "text/x-python",
   "name": "python",
   "nbconvert_exporter": "python",
   "pygments_lexer": "ipython3",
   "version": "3.8.12"
  }
 },
 "nbformat": 4,
 "nbformat_minor": 4
}
