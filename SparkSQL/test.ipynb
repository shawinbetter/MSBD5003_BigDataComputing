{
 "cells": [
  {
   "cell_type": "code",
   "execution_count": 1,
   "id": "favorite-feeling",
   "metadata": {},
   "outputs": [],
   "source": [
    "df = spark.read.csv('sales.csv', header=True, inferSchema=True)"
   ]
  },
  {
   "cell_type": "code",
   "execution_count": 6,
   "id": "infinite-shame",
   "metadata": {},
   "outputs": [
    {
     "name": "stdout",
     "output_type": "stream",
     "text": [
      "+-------------+\n",
      "|      Country|\n",
      "+-------------+\n",
      "|       Sweden|\n",
      "|       Jersey|\n",
      "|     Malaysia|\n",
      "|       Turkey|\n",
      "|      Germany|\n",
      "|       France|\n",
      "|      Belgium|\n",
      "|      Finland|\n",
      "|United States|\n",
      "|        India|\n",
      "|       Kuwait|\n",
      "|        Malta|\n",
      "|        Italy|\n",
      "|       Norway|\n",
      "|        Spain|\n",
      "|      Denmark|\n",
      "|      Ireland|\n",
      "|       Israel|\n",
      "|      Iceland|\n",
      "|  South Korea|\n",
      "+-------------+\n",
      "only showing top 20 rows\n",
      "\n"
     ]
    }
   ],
   "source": [
    "df.select('Country').distinct().show()"
   ]
  },
  {
   "cell_type": "code",
   "execution_count": 9,
   "id": "accurate-tribute",
   "metadata": {},
   "outputs": [
    {
     "name": "stdout",
     "output_type": "stream",
     "text": [
      "+-------+-----+\n",
      "|   Name|Price|\n",
      "+-------+-----+\n",
      "|Joachim| 1200|\n",
      "|  Diana| 7500|\n",
      "+-------+-----+\n",
      "\n"
     ]
    }
   ],
   "source": [
    "df.filter(\"Country = 'Brazil' \").select(\"Name\",\"Price\").show()"
   ]
  },
  {
   "cell_type": "code",
   "execution_count": 22,
   "id": "other-converter",
   "metadata": {},
   "outputs": [
    {
     "name": "stdout",
     "output_type": "stream",
     "text": [
      "+-------------+----------+\n",
      "|      Country|TotalPrice|\n",
      "+-------------+----------+\n",
      "|       Sweden|      8400|\n",
      "|       Jersey|      1200|\n",
      "|     Malaysia|      1200|\n",
      "|       Turkey|      2400|\n",
      "|      Germany|     22800|\n",
      "|       France|     30300|\n",
      "|      Belgium|      3600|\n",
      "|      Finland|      1200|\n",
      "|United States|    350350|\n",
      "|        India|      2400|\n",
      "|       Kuwait|      1200|\n",
      "|        Malta|      3600|\n",
      "|        Italy|      2400|\n",
      "|       Norway|     12000|\n",
      "|        Spain|      2400|\n",
      "|      Denmark|      8400|\n",
      "|      Ireland|     29100|\n",
      "|       Israel|      1200|\n",
      "|      Iceland|      1200|\n",
      "|  South Korea|      1200|\n",
      "+-------------+----------+\n",
      "only showing top 20 rows\n",
      "\n"
     ]
    }
   ],
   "source": [
    "df.groupby(\"Country\").sum('Price').withColumnRenamed('sum(Price)', 'TotalPrice').show()"
   ]
  },
  {
   "cell_type": "code",
   "execution_count": 16,
   "id": "acquired-bridal",
   "metadata": {},
   "outputs": [
    {
     "name": "stdout",
     "output_type": "stream",
     "text": [
      "+--------------------+----------+\n",
      "|             Country|TotalPrice|\n",
      "+--------------------+----------+\n",
      "|       United States|    350350|\n",
      "|      United Kingdom|     63600|\n",
      "|              Canada|     42000|\n",
      "|              France|     30300|\n",
      "|             Ireland|     29100|\n",
      "|             Germany|     22800|\n",
      "|           Australia|     22800|\n",
      "|         Switzerland|     19200|\n",
      "|         Netherlands|     14400|\n",
      "|              Norway|     12000|\n",
      "|              Brazil|      8700|\n",
      "|             Denmark|      8400|\n",
      "|              Sweden|      8400|\n",
      "|             Belgium|      3600|\n",
      "|        South Africa|      3600|\n",
      "|               Malta|      3600|\n",
      "|United Arab Emirates|      3600|\n",
      "|             Austria|      3600|\n",
      "|               Spain|      2400|\n",
      "|              Turkey|      2400|\n",
      "+--------------------+----------+\n",
      "only showing top 20 rows\n",
      "\n"
     ]
    }
   ],
   "source": [
    "df.groupby(\"Country\").sum('Price').withColumnRenamed('sum(Price)', 'TotalPrice').orderBy('TotalPrice', ascending=False).show()"
   ]
  },
  {
   "cell_type": "code",
   "execution_count": 17,
   "id": "false-liabilities",
   "metadata": {},
   "outputs": [],
   "source": [
    "df2 = spark.read.csv('countries.csv', header=True, inferSchema=True)"
   ]
  },
  {
   "cell_type": "code",
   "execution_count": 19,
   "id": "pressed-agenda",
   "metadata": {},
   "outputs": [
    {
     "name": "stdout",
     "output_type": "stream",
     "text": [
      "root\n",
      " |-- Country: string (nullable = true)\n",
      " |-- ID: integer (nullable = true)\n",
      "\n"
     ]
    }
   ],
   "source": [
    "df2.printSchema()"
   ]
  },
  {
   "cell_type": "code",
   "execution_count": 24,
   "id": "complex-pioneer",
   "metadata": {},
   "outputs": [
    {
     "name": "stdout",
     "output_type": "stream",
     "text": [
      "+---+----------+\n",
      "| ID|TotalPrice|\n",
      "+---+----------+\n",
      "| 15|      8400|\n",
      "| 29|      1200|\n",
      "| 30|      1200|\n",
      "| 24|      2400|\n",
      "| 19|     22800|\n",
      "|  5|     30300|\n",
      "| 14|      3600|\n",
      "| 11|      1200|\n",
      "|  2|    350350|\n",
      "|  9|      2400|\n",
      "| 25|      1200|\n",
      "| 26|      3600|\n",
      "| 18|      2400|\n",
      "| 16|     12000|\n",
      "| 21|      2400|\n",
      "| 13|      8400|\n",
      "|  7|     29100|\n",
      "|  4|      1200|\n",
      "| 31|      1200|\n",
      "| 32|      1200|\n",
      "+---+----------+\n",
      "only showing top 20 rows\n",
      "\n"
     ]
    }
   ],
   "source": [
    "tmp = df.groupby(\"Country\").sum('Price').withColumnRenamed('sum(Price)', 'TotalPrice').orderBy('TotalPrice', ascending=False)\n",
    "df2.join(tmp,'Country').select(\"ID\",\"TotalPrice\").show()"
   ]
  },
  {
   "cell_type": "code",
   "execution_count": 125,
   "id": "hungry-pastor",
   "metadata": {},
   "outputs": [
    {
     "name": "stdout",
     "output_type": "stream",
     "text": [
      "+---+----------+\n",
      "|src|      rank|\n",
      "+---+----------+\n",
      "|  1| 1.2981883|\n",
      "|  3|       1.0|\n",
      "|  4|       1.0|\n",
      "|  2|0.70181173|\n",
      "+---+----------+\n",
      "\n"
     ]
    }
   ],
   "source": [
    "from pyspark.sql.functions import *\n",
    "\n",
    "numOfIterations = 10\n",
    "\n",
    "lines = spark.read.text(\"pagerank_data.txt\")\n",
    "# You can also test your program on the follow larger data set:\n",
    "# lines = spark.read.text(\"dblp.in.txt\")\n",
    "\n",
    "a = lines.select(split(lines[0],' '))\n",
    "links = a.select(a[0][0].alias('src'), a[0][1].alias('dst'))\n",
    "outdegrees = links.groupBy('src').count()\n",
    "ranks = outdegrees.select('src', lit(1).alias('rank'))\n",
    "\n",
    "from pyspark.sql.functions import udf\n",
    "from pyspark.sql.types import FloatType\n",
    "contrib = udf(lambda x,y: x/y, FloatType()) #for each neighbor, compute its contrib\n",
    "update = udf(lambda x: 0.15 * 1 + 0.85 * x, FloatType()) #update formula\n",
    "\n",
    "for iteration in range(numOfIterations):\n",
    "    tmp = links.join(ranks,['src']).join(outdegrees,['src']) #schema: src - dst - rank of src - count of src\n",
    "    cal_contrib = tmp.select('dst', contrib(tmp['rank'],tmp['count']).alias('contrib_to_dst')) #compute each neighbor's contri to dst\n",
    "    groupby_contrib = cal_contrib.groupby('dst').sum('contrib_to_dst') #take the summation of right part of update formula\n",
    "    ranks = groupby_contrib.select('dst',update(groupby_contrib['sum(contrib_to_dst)']).alias('rank')).withColumnRenamed('dst', 'src')\n",
    "    \n",
    "\n",
    "ranks.orderBy(desc('rank')).show()"
   ]
  }
 ],
 "metadata": {
  "kernelspec": {
   "display_name": "Python 3",
   "language": "python",
   "name": "python3"
  },
  "language_info": {
   "codemirror_mode": {
    "name": "ipython",
    "version": 3
   },
   "file_extension": ".py",
   "mimetype": "text/x-python",
   "name": "python",
   "nbconvert_exporter": "python",
   "pygments_lexer": "ipython3",
   "version": "3.8.6"
  }
 },
 "nbformat": 4,
 "nbformat_minor": 5
}
