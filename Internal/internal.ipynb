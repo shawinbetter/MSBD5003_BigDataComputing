{
 "cells": [
  {
   "cell_type": "markdown",
   "metadata": {},
   "source": [
    "### Finding Prime Numbers"
   ]
  },
  {
   "cell_type": "code",
   "execution_count": 1,
   "metadata": {},
   "outputs": [
    {
     "name": "stderr",
     "output_type": "stream",
     "text": [
      "                                                                                \r"
     ]
    },
    {
     "name": "stdout",
     "output_type": "stream",
     "text": [
      "[17, 97, 113, 193, 241, 257, 337, 353, 401, 433]\n"
     ]
    },
    {
     "name": "stderr",
     "output_type": "stream",
     "text": [
      "                                                                                \r"
     ]
    }
   ],
   "source": [
    "n = 500000\n",
    "allnumbers = sc.parallelize(range(2, n), 8).cache()\n",
    "composite = allnumbers.flatMap(lambda x: range(x*2, n, x)).repartition(8) #from x**2, step x, no shuffling \n",
    "prime = allnumbers.subtract(composite) #it will be partitioned even do not call repartition()\n",
    "print(prime.take(10))"
   ]
  },
  {
   "cell_type": "code",
   "execution_count": 2,
   "metadata": {},
   "outputs": [
    {
     "name": "stdout",
     "output_type": "stream",
     "text": [
      "[62499, 62500, 62500, 62500, 62499, 62500, 62500, 62500]\n",
      "[704805, 704790, 704800, 704800, 704800, 704799, 704800, 704816]\n"
     ]
    },
    {
     "name": "stderr",
     "output_type": "stream",
     "text": [
      "                                                                                \r"
     ]
    },
    {
     "name": "stdout",
     "output_type": "stream",
     "text": [
      "[0, 5169, 1, 5219, 0, 5206, 0, 5189, 0, 5165, 0, 5199, 0, 5191, 0, 5199]\n",
      "-----------------------------\n"
     ]
    },
    {
     "name": "stderr",
     "output_type": "stream",
     "text": [
      "                                                                                \r"
     ]
    },
    {
     "name": "stdout",
     "output_type": "stream",
     "text": [
      "[17, 97, 113, 193]\n"
     ]
    },
    {
     "name": "stderr",
     "output_type": "stream",
     "text": [
      "                                                                                \r"
     ]
    },
    {
     "name": "stdout",
     "output_type": "stream",
     "text": [
      "[2]\n"
     ]
    },
    {
     "name": "stderr",
     "output_type": "stream",
     "text": [
      "[Stage 20:===================================>                    (10 + 6) / 16]\r"
     ]
    },
    {
     "name": "stdout",
     "output_type": "stream",
     "text": [
      "[3, 19, 67, 83]\n"
     ]
    },
    {
     "name": "stderr",
     "output_type": "stream",
     "text": [
      "                                                                                \r"
     ]
    }
   ],
   "source": [
    "# Find the number of elements in each parttion\n",
    "def partitionsize(it): \n",
    "    yield len(list(it))\n",
    "\n",
    "print(allnumbers.mapPartitions(partitionsize).collect()) #perfect balancing partitioning\n",
    "print(composite.mapPartitions(partitionsize).collect()) #highly imbanlance\n",
    "print(prime.mapPartitions(partitionsize).collect())\n",
    "print('-----------------------------')\n",
    "print(prime.glom().collect()[1][0:4]) #mod 8 = 1\n",
    "print(prime.glom().collect()[2][0:4]) #mod 8 = 2\n",
    "print(prime.glom().collect()[3][0:4]) #mod 8 = 3"
   ]
  },
  {
   "cell_type": "markdown",
   "metadata": {},
   "source": [
    "### Data Partitioning"
   ]
  },
  {
   "cell_type": "code",
   "execution_count": 3,
   "metadata": {
    "scrolled": true
   },
   "outputs": [
    {
     "name": "stdout",
     "output_type": "stream",
     "text": [
      "None\n",
      "None\n",
      "-----------------------------\n",
      "[[(8, 9), (8, 9)], [(1, 2), (96, 97)], [(240, 241), (400, 401)], [(1, 2), (800, 801), (4, 5), (12, 13)]]\n",
      "[[(8, 18), (96, 97), (240, 241), (400, 401), (800, 801), (4, 5), (12, 13)], [(1, 4)], [], []]\n",
      "-----------------------------\n",
      "<pyspark.rdd.Partitioner object at 0x1142f6610>\n",
      "<function portable_hash at 0x105dd7dc0>\n",
      "-----------------------------\n",
      "[[(8, 19), (96, 98), (240, 242), (400, 402), (800, 802), (4, 6), (12, 14)], [(1, 5)], [], []]\n",
      "None\n",
      "<function portable_hash at 0x105dd7dc0>\n",
      "-----------------------------\n",
      "[[(1, 4), (4, 5), (8, 18)], [(12, 13), (96, 97)], [(240, 241), (400, 401)], [(800, 801)]]\n",
      "<function RDD.sortByKey.<locals>.rangePartitioner at 0x1142f7040>\n",
      "<function RDD.sortByKey.<locals>.rangePartitioner at 0x1142f7040>\n"
     ]
    }
   ],
   "source": [
    "data = [8, 8, 1, 96, 240, 400, 1, 800, 4, 12]\n",
    "rdd = sc.parallelize(zip(data, data),4)\n",
    "print(rdd.partitioner)\n",
    "rdd = rdd.map(lambda t: (t[0], t[1]+1))\n",
    "print(rdd.partitioner)\n",
    "print('-----------------------------')\n",
    "print(rdd.glom().collect())\n",
    "rdd = rdd.reduceByKey(lambda x,y: x+y) #同key的value相加\n",
    "print(rdd.glom().collect())\n",
    "print('-----------------------------')\n",
    "print(rdd.partitioner)\n",
    "print(rdd.partitioner.partitionFunc)\n",
    "print('-----------------------------')\n",
    "rdd1 = rdd.map(lambda x: (x[0], x[1]+1))\n",
    "print(rdd1.glom().collect())\n",
    "print(rdd1.partitioner)\n",
    "rdd2 = rdd.mapValues(lambda x: x+1)\n",
    "print(rdd2.partitioner.partitionFunc)\n",
    "print('-----------------------------')\n",
    "rdd = rdd.sortByKey()\n",
    "print(rdd.glom().collect())\n",
    "print(rdd.partitioner.partitionFunc)\n",
    "rdd3 = rdd.mapValues(lambda x: x+1)\n",
    "print(rdd3.partitioner.partitionFunc)"
   ]
  },
  {
   "cell_type": "code",
   "execution_count": 4,
   "metadata": {},
   "outputs": [
    {
     "name": "stdout",
     "output_type": "stream",
     "text": [
      "[625, 625, 625, 625, 625, 625, 625, 625]\n",
      "[2500, 0, 0, 0, 0, 0, 0, 0]\n",
      "[556, 278, 277, 278, 277, 278, 278, 278]\n",
      "[556, 278, 277, 278, 277, 278, 278, 278]\n"
     ]
    }
   ],
   "source": [
    "def partitionsize(it): yield len(list(it))\n",
    "    \n",
    "n = 40000\n",
    "\n",
    "def f(x):\n",
    "    return x % 9\n",
    "\n",
    "data1 = list(range(0, n, 16)) + list(range(0, n, 16))\n",
    "data2 = range(0, n, 8)\n",
    "rdd1 = sc.parallelize(zip(data1, data2), 8)\n",
    "print(rdd1.mapPartitions(partitionsize).collect())\n",
    "rdd2 = rdd1.reduceByKey(lambda x,y: x+y) #highly unbalance,\n",
    "print(rdd2.mapPartitions(partitionsize).collect())\n",
    "rdd3 = rdd2.partitionBy(8, f) #replace hash code \n",
    "print(rdd3.mapPartitions(partitionsize).collect())\n",
    "rdd4 = rdd1.reduceByKey(lambda x,y: x+y, partitionFunc=f)\n",
    "print(rdd4.mapPartitions(partitionsize).collect())"
   ]
  },
  {
   "cell_type": "code",
   "execution_count": 5,
   "metadata": {},
   "outputs": [
    {
     "name": "stdout",
     "output_type": "stream",
     "text": [
      "None\n",
      "<function portable_hash at 0x105dd7dc0>\n",
      "<function portable_hash at 0x105dd7dc0>\n",
      "17\n",
      "<function portable_hash at 0x105dd7dc0>\n"
     ]
    },
    {
     "name": "stderr",
     "output_type": "stream",
     "text": [
      "[Stage 41:================> (8 + 1) / 9][Stage 42:======>           (3 + 5) / 8]\r"
     ]
    },
    {
     "name": "stdout",
     "output_type": "stream",
     "text": [
      "[(0, (0, 0)), (136, (136, 136)), (272, (272, 272)), (408, (408, 408))]\n"
     ]
    },
    {
     "name": "stderr",
     "output_type": "stream",
     "text": [
      "                                                                                \r"
     ]
    }
   ],
   "source": [
    "a = sc.parallelize(zip(range(10000), range(10000)), 8)\n",
    "b = sc.parallelize(zip(range(10000), range(10000)), 9)\n",
    "print(a.partitioner)\n",
    "a = a.reduceByKey(lambda x,y: x+y)\n",
    "print(a.partitioner.partitionFunc)\n",
    "b = b.reduceByKey(lambda x,y: x+y)\n",
    "print(b.partitioner.partitionFunc) #same partition = co-partition\n",
    "c = a.join(b) #value append with same key\n",
    "print(c.getNumPartitions())\n",
    "print(c.partitioner.partitionFunc)\n",
    "print(c.glom().first()[0:4])"
   ]
  },
  {
   "cell_type": "markdown",
   "metadata": {},
   "source": [
    "### Partitioning in DataFrames"
   ]
  },
  {
   "cell_type": "code",
   "execution_count": 7,
   "metadata": {},
   "outputs": [
    {
     "name": "stdout",
     "output_type": "stream",
     "text": [
      "8\n",
      "[[Row(_1=1, _2=2)], [Row(_1=1, _2=2)], [Row(_1=1, _2=3)], [Row(_1=2, _2=4), Row(_1=2, _2=5)], [Row(_1=2, _2=3)], [Row(_1=3, _2=1)], [Row(_1=3, _2=1)], [Row(_1=3, _2=2), Row(_1=4, _2=3)]]\n"
     ]
    }
   ],
   "source": [
    "data1 = [1, 1, 1, 2, 2, 2, 3, 3, 3, 4]\n",
    "data2 = [2, 2, 3, 4, 5, 3, 1, 1, 2, 3]\n",
    "df = spark.createDataFrame(zip(data1, data2))\n",
    "print(df.rdd.getNumPartitions())\n",
    "print(df.rdd.glom().collect())"
   ]
  },
  {
   "cell_type": "code",
   "execution_count": 8,
   "metadata": {},
   "outputs": [
    {
     "name": "stdout",
     "output_type": "stream",
     "text": [
      "[[], [], [Row(_1=2, _2=4), Row(_1=2, _2=5), Row(_1=2, _2=3), Row(_1=4, _2=3)], [Row(_1=3, _2=1), Row(_1=3, _2=1), Row(_1=3, _2=2)], [], [Row(_1=1, _2=2), Row(_1=1, _2=2), Row(_1=1, _2=3)]]\n",
      "+---+---+-----------+--------------+\n",
      "| _1| _2|   hash(_1)|(hash(_1) % 6)|\n",
      "+---+---+-----------+--------------+\n",
      "|  2|  4| -797927272|            -4|\n",
      "|  2|  5| -797927272|            -4|\n",
      "|  2|  3| -797927272|            -4|\n",
      "|  4|  3| 1344313940|             2|\n",
      "|  3|  1|  519220707|             3|\n",
      "|  3|  1|  519220707|             3|\n",
      "|  3|  2|  519220707|             3|\n",
      "|  1|  2|-1712319331|            -1|\n",
      "|  1|  2|-1712319331|            -1|\n",
      "|  1|  3|-1712319331|            -1|\n",
      "+---+---+-----------+--------------+\n",
      "\n",
      "1\n"
     ]
    }
   ],
   "source": [
    "import pyspark.sql.functions\n",
    "\n",
    "df1 = df.repartition(6, df._1)\n",
    "print(df1.rdd.glom().collect())\n",
    "\n",
    "# SparkSQL uses MurmurHash to make generating adversarial data more difficult\n",
    "# Calling SparkSQL's hash function\n",
    "df1.select('*', pyspark.sql.functions.hash(df1._1), pyspark.sql.functions.hash(df1._1) % 6).show()\n",
    "\n",
    "# Calling Python's hash function\n",
    "print(hash(1))"
   ]
  },
  {
   "cell_type": "code",
   "execution_count": 14,
   "metadata": {
    "scrolled": true
   },
   "outputs": [
    {
     "name": "stdout",
     "output_type": "stream",
     "text": [
      "+-------+--------+\n",
      "|waybill|customer|\n",
      "+-------+--------+\n",
      "|    474|      80|\n",
      "|     29|      19|\n",
      "|    191|      44|\n",
      "|    418|      25|\n",
      "|    191|      93|\n",
      "|    938|      22|\n",
      "|    730|      75|\n",
      "|    293|      10|\n",
      "|    730|      64|\n",
      "|    270|      43|\n",
      "|    720|      28|\n",
      "|    367|      63|\n",
      "|    705|      71|\n",
      "|    720|      95|\n",
      "|     19|      15|\n",
      "|     54|      60|\n",
      "|    296|      17|\n",
      "|     54|      34|\n",
      "|    296|      51|\n",
      "|    926|       9|\n",
      "+-------+--------+\n",
      "only showing top 20 rows\n",
      "\n"
     ]
    },
    {
     "name": "stderr",
     "output_type": "stream",
     "text": [
      "                                                                                \r"
     ]
    },
    {
     "name": "stdout",
     "output_type": "stream",
     "text": [
      "1000\n",
      "+--------+-----+\n",
      "|customer|phone|\n",
      "+--------+-----+\n",
      "|       0|    0|\n",
      "|       1|    1|\n",
      "|       2|    2|\n",
      "|       3|    3|\n",
      "|       4|    4|\n",
      "|       5|    5|\n",
      "|       6|    6|\n",
      "|       7|    7|\n",
      "|       8|    8|\n",
      "|       9|    9|\n",
      "|      10|   10|\n",
      "|      11|   11|\n",
      "|      12|   12|\n",
      "|      13|   13|\n",
      "|      14|   14|\n",
      "|      15|   15|\n",
      "|      16|   16|\n",
      "|      17|   17|\n",
      "|      18|   18|\n",
      "|      19|   19|\n",
      "+--------+-----+\n",
      "only showing top 20 rows\n",
      "\n",
      "100\n",
      "+-------+------------+\n",
      "|waybill|max(version)|\n",
      "+-------+------------+\n",
      "|     26|           3|\n",
      "|    964|           4|\n",
      "|     29|           2|\n",
      "|    558|           3|\n",
      "|    541|           6|\n",
      "|     65|           2|\n",
      "|    418|           0|\n",
      "|    222|           7|\n",
      "|    293|           1|\n",
      "|    938|           4|\n",
      "|    720|           4|\n",
      "|    367|           7|\n",
      "|    243|           0|\n",
      "|    705|           9|\n",
      "|    442|           9|\n",
      "|    965|           9|\n",
      "|      0|           9|\n",
      "|    847|           6|\n",
      "|    277|           8|\n",
      "|    656|           6|\n",
      "+-------+------------+\n",
      "only showing top 20 rows\n",
      "\n"
     ]
    },
    {
     "name": "stderr",
     "output_type": "stream",
     "text": [
      "[Stage 101:=========================================>           (156 + 9) / 200]\r"
     ]
    },
    {
     "name": "stdout",
     "output_type": "stream",
     "text": [
      "626\n"
     ]
    },
    {
     "name": "stderr",
     "output_type": "stream",
     "text": [
      "                                                                                \r"
     ]
    }
   ],
   "source": [
    "# A 'real' example from SF Express\n",
    "# Prepare three relational tables\n",
    "\n",
    "from pyspark.sql.functions import *\n",
    "\n",
    "num_waybills = 1000\n",
    "num_customers = 100\n",
    "\n",
    "rdd = sc.parallelize((i, ) for i in range(num_waybills))\n",
    "waybills = spark.createDataFrame(rdd).select(floor(rand()*num_waybills).alias('waybill'), \n",
    "                                             floor(rand()*num_customers).alias('customer')) \\\n",
    "                .repartition('waybill')\\\n",
    "                .cache()\n",
    "waybills.show()\n",
    "print(waybills.count())\n",
    "\n",
    "rdd = sc.parallelize((i, i) for i in range(num_customers))\n",
    "customers = spark.createDataFrame(rdd, ['customer', 'phone']).cache()\n",
    "customers.show()\n",
    "print(customers.count())\n",
    "\n",
    "rdd = sc.parallelize((i, ) for i in range(num_waybills))\n",
    "waybill_status = spark.createDataFrame(rdd).select(floor(rand()*num_waybills).alias('waybill'), \n",
    "                                                   floor(rand()*10).alias('version')) \\\n",
    "                      .groupBy('waybill').max('version').cache()\n",
    "waybill_status.show()\n",
    "print(waybill_status.count())"
   ]
  },
  {
   "cell_type": "code",
   "execution_count": 15,
   "metadata": {},
   "outputs": [
    {
     "name": "stdout",
     "output_type": "stream",
     "text": [
      "+--------+-------+------------+-----+\n",
      "|customer|waybill|max(version)|phone|\n",
      "+--------+-------+------------+-----+\n",
      "|      19|     29|           2|   19|\n",
      "|      25|    418|           0|   25|\n",
      "|      22|    938|           4|   22|\n",
      "|      10|    293|           1|   10|\n",
      "|      28|    720|           4|   28|\n",
      "|      63|    367|           7|   63|\n",
      "|      71|    705|           9|   71|\n",
      "|      95|    720|           4|   95|\n",
      "|      21|    847|           6|   21|\n",
      "|      97|    847|           6|   97|\n",
      "|      33|    299|           6|   33|\n",
      "|      34|    167|           8|   34|\n",
      "|      48|    112|           8|   48|\n",
      "|      51|    299|           6|   51|\n",
      "|      75|    112|           8|   75|\n",
      "|      27|    602|           5|   27|\n",
      "|      49|    347|           6|   49|\n",
      "|      49|    857|           9|   49|\n",
      "|      40|    857|           9|   40|\n",
      "|      21|     22|           9|   21|\n",
      "+--------+-------+------------+-----+\n",
      "only showing top 20 rows\n",
      "\n"
     ]
    }
   ],
   "source": [
    "# We want to join 3 tables together.\n",
    "# Knowing how each table is partitioned helps optimize the join order.\n",
    "\n",
    "# waybills.join(customers, 'customer').join(waybill_status, 'waybill').show()\n",
    "waybills.join(waybill_status, 'waybill').join(customers, 'customer').show()"
   ]
  },
  {
   "cell_type": "markdown",
   "metadata": {},
   "source": [
    "### Threading"
   ]
  },
  {
   "cell_type": "code",
   "execution_count": 19,
   "metadata": {},
   "outputs": [
    {
     "name": "stderr",
     "output_type": "stream",
     "text": [
      "                                                                                \r"
     ]
    },
    {
     "name": "stdout",
     "output_type": "stream",
     "text": [
      "Worker 2 reports: Pi is roughly 3.142312\n",
      "Worker 0 reports: Pi is roughly 3.1423186666666667\n",
      "Worker 1 reports: Pi is roughly 3.1421246666666667\n",
      "Worker 3 reports: Pi is roughly 3.142332\n",
      "Worker 4 reports: Pi is roughly 3.141875333333333\n"
     ]
    }
   ],
   "source": [
    "import threading\n",
    "import random\n",
    "\n",
    "partitions = 12\n",
    "n = 500000 * partitions\n",
    "\n",
    "# use different seeds in different threads and different partitions\n",
    "# a bit ugly, since mapPartitionsWithIndex takes a function with only index\n",
    "# and it as parameters\n",
    "def f1(index, it):\n",
    "    random.seed(index + 987231)\n",
    "    for i in it:\n",
    "        x = random.random() * 2 - 1\n",
    "        y = random.random() * 2 - 1\n",
    "        yield 1 if x ** 2 + y ** 2 < 1 else 0\n",
    "\n",
    "def f2(index, it):\n",
    "    random.seed(index + 987232)\n",
    "    for i in it:\n",
    "        x = random.random() * 2 - 1\n",
    "        y = random.random() * 2 - 1\n",
    "        yield 1 if x ** 2 + y ** 2 < 1 else 0\n",
    "\n",
    "def f3(index, it):\n",
    "    random.seed(index + 987233)\n",
    "    for i in it:\n",
    "        x = random.random() * 2 - 1\n",
    "        y = random.random() * 2 - 1\n",
    "        yield 1 if x ** 2 + y ** 2 < 1 else 0\n",
    "    \n",
    "def f4(index, it):\n",
    "    random.seed(index + 987234)\n",
    "    for i in it:\n",
    "        x = random.random() * 2 - 1\n",
    "        y = random.random() * 2 - 1\n",
    "        yield 1 if x ** 2 + y ** 2 < 1 else 0\n",
    "    \n",
    "def f5(index, it):\n",
    "    random.seed(index + 987245)\n",
    "    for i in it:\n",
    "        x = random.random() * 2 - 1\n",
    "        y = random.random() * 2 - 1\n",
    "        yield 1 if x ** 2 + y ** 2 < 1 else 0\n",
    "\n",
    "f = [f1, f2, f3, f4, f5]\n",
    "    \n",
    "# the function executed in each thread/job\n",
    "def dojob(i):\n",
    "    count = sc.parallelize(range(1, n + 1), partitions) \\\n",
    "              .mapPartitionsWithIndex(f[i]).reduce(lambda a,b: a+b)\n",
    "    print(\"Worker\", i, \"reports: Pi is roughly\", 4.0 * count / n)\n",
    "\n",
    "# create and execute the threads\n",
    "threads = []\n",
    "for i in range(5):\n",
    "    t = threading.Thread(target=dojob, args=(i,))\n",
    "    threads += [t]\n",
    "    t.start()\n",
    "\n",
    "# wait for all threads to complete\n",
    "for t in threads:\n",
    "    t.join()    "
   ]
  },
  {
   "cell_type": "code",
   "execution_count": 18,
   "metadata": {},
   "outputs": [
    {
     "data": {
      "text/plain": [
       "[<Thread(Thread-9, stopped 6305902592)>,\n",
       " <Thread(Thread-10, stopped 6322728960)>,\n",
       " <Thread(Thread-11, stopped 6339555328)>,\n",
       " <Thread(Thread-12, stopped 6356381696)>,\n",
       " <Thread(Thread-13, stopped 6373208064)>]"
      ]
     },
     "execution_count": 18,
     "metadata": {},
     "output_type": "execute_result"
    }
   ],
   "source": [
    "threads"
   ]
  },
  {
   "cell_type": "code",
   "execution_count": null,
   "metadata": {},
   "outputs": [],
   "source": []
  }
 ],
 "metadata": {
  "kernelspec": {
   "display_name": "Python 3 (ipykernel)",
   "language": "python",
   "name": "python3"
  },
  "language_info": {
   "codemirror_mode": {
    "name": "ipython",
    "version": 3
   },
   "file_extension": ".py",
   "mimetype": "text/x-python",
   "name": "python",
   "nbconvert_exporter": "python",
   "pygments_lexer": "ipython3",
   "version": "3.8.12"
  }
 },
 "nbformat": 4,
 "nbformat_minor": 4
}
