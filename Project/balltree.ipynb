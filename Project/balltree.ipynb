{
 "cells": [
  {
   "cell_type": "code",
   "execution_count": 1,
   "id": "a017c36b-3226-4c37-a56c-9c48c973dfc5",
   "metadata": {},
   "outputs": [],
   "source": [
    "import numpy as np"
   ]
  },
  {
   "cell_type": "code",
   "execution_count": 7,
   "id": "880f032c-18ec-4d40-962b-1906c35d17ec",
   "metadata": {},
   "outputs": [],
   "source": [
    "def fit_ball_tree(x):\n",
    "    if len(x) == 0:\n",
    "        return\n",
    "    if x.shape[0]==1:\n",
    "        node=dict({'pivot':x[0],\n",
    "                   'son1':None,\n",
    "                   'son2':None,\n",
    "                   'radius':0\n",
    "                   })\n",
    "        return node\n",
    "    c=np.argmax(np.std(x,axis=0)) #c为最宽的维度\n",
    "    p1=x[np.argmin(x[:,c])]\n",
    "    p2=x[np.argmax(x[:,c])]\n",
    "    p=(p1+p2)/2 #p为c维度的中心点\n",
    "    radius=max(np.linalg.norm(x-p,axis=1)) #p到各点的最大距离（球半径）\n",
    "    x1,x2=[],[]\n",
    "    \n",
    "    # 根据x中各点到p1和p2的距离，将x分为两个子集\n",
    "    for i in range(x.shape[0]):\n",
    "        if np.linalg.norm(x[i]-p1)<np.linalg.norm(x[i]-p2):\n",
    "            x1.append(x[i])\n",
    "        else:\n",
    "            x2.append(x[i])\n",
    "\n",
    "    x1=np.array(x1)\n",
    "    x2=np.array(x2)\n",
    "\n",
    "    # 递归构建左子树和右子树\n",
    "    son1=fit_ball_tree(x1)\n",
    "    son2=fit_ball_tree(x2)\n",
    "    node=dict({'pivot':p,\n",
    "               'son1':son1,\n",
    "               'son2':son2,\n",
    "               'radius':radius\n",
    "                })\n",
    "    return node\n",
    "\n",
    "\n",
    "    \n",
    "def ball_tree_search(k,t,node):\n",
    "    global Q,q\n",
    "    # Q is k-neighbor list, q is k-neighbor distance\n",
    "    \n",
    "    if np.linalg.norm(t-node['pivot'])-node['radius']>=np.max(q):\n",
    "        return\n",
    "    if node['son1']==None and node['son2']==None:\n",
    "        if Q.shape[0]==k:\n",
    "            Q=np.delete(Q,np.argmax(q),axis=0)\n",
    "            q=np.delete(q,np.argmax(q))\n",
    "        Q=np.append(Q,[node['pivot']],axis=0)\n",
    "        q=np.append(q,np.linalg.norm(t-node['pivot']))\n",
    "    else:\n",
    "        ball_tree_search(k,t,node['son1'])\n",
    "        ball_tree_search(k,t,node['son2'])"
   ]
  },
  {
   "cell_type": "code",
   "execution_count": 3,
   "id": "a000c430-7503-4650-b751-8f1616021a6b",
   "metadata": {},
   "outputs": [],
   "source": [
    "data = np.loadtxt('Data/DBSCAN_Points.txt')"
   ]
  },
  {
   "cell_type": "code",
   "execution_count": 8,
   "id": "253a7f5d-2b89-4ebb-b78c-5bd3bd379b70",
   "metadata": {},
   "outputs": [
    {
     "ename": "RecursionError",
     "evalue": "maximum recursion depth exceeded while calling a Python object",
     "output_type": "error",
     "traceback": [
      "\u001b[0;31m---------------------------------------------------------------------------\u001b[0m",
      "\u001b[0;31mRecursionError\u001b[0m                            Traceback (most recent call last)",
      "\u001b[0;32m/var/folders/8j/gcjktp6s2wn3l5pd66pyr67w0000gn/T/ipykernel_25242/245707790.py\u001b[0m in \u001b[0;36m<module>\u001b[0;34m\u001b[0m\n\u001b[0;32m----> 1\u001b[0;31m \u001b[0mroot\u001b[0m\u001b[0;34m=\u001b[0m\u001b[0mfit_ball_tree\u001b[0m\u001b[0;34m(\u001b[0m\u001b[0mdata\u001b[0m\u001b[0;34m)\u001b[0m\u001b[0;34m\u001b[0m\u001b[0;34m\u001b[0m\u001b[0m\n\u001b[0m\u001b[1;32m      2\u001b[0m \u001b[0;34m\u001b[0m\u001b[0m\n\u001b[1;32m      3\u001b[0m \u001b[0mQ\u001b[0m\u001b[0;34m=\u001b[0m\u001b[0mnp\u001b[0m\u001b[0;34m.\u001b[0m\u001b[0marray\u001b[0m\u001b[0;34m(\u001b[0m\u001b[0;34m[\u001b[0m\u001b[0;34m[\u001b[0m\u001b[0mnp\u001b[0m\u001b[0;34m.\u001b[0m\u001b[0minf\u001b[0m\u001b[0;34m,\u001b[0m\u001b[0mnp\u001b[0m\u001b[0;34m.\u001b[0m\u001b[0minf\u001b[0m\u001b[0;34m]\u001b[0m\u001b[0;34m]\u001b[0m\u001b[0;34m)\u001b[0m \u001b[0;31m#global var\u001b[0m\u001b[0;34m\u001b[0m\u001b[0;34m\u001b[0m\u001b[0m\n\u001b[1;32m      4\u001b[0m \u001b[0mq\u001b[0m\u001b[0;34m=\u001b[0m\u001b[0mnp\u001b[0m\u001b[0;34m.\u001b[0m\u001b[0marray\u001b[0m\u001b[0;34m(\u001b[0m\u001b[0;34m[\u001b[0m\u001b[0mnp\u001b[0m\u001b[0;34m.\u001b[0m\u001b[0minf\u001b[0m\u001b[0;34m]\u001b[0m\u001b[0;34m)\u001b[0m \u001b[0;31m#global var\u001b[0m\u001b[0;34m\u001b[0m\u001b[0;34m\u001b[0m\u001b[0m\n\u001b[1;32m      5\u001b[0m \u001b[0;34m\u001b[0m\u001b[0m\n",
      "\u001b[0;32m/var/folders/8j/gcjktp6s2wn3l5pd66pyr67w0000gn/T/ipykernel_25242/3790251974.py\u001b[0m in \u001b[0;36mfit_ball_tree\u001b[0;34m(x)\u001b[0m\n\u001b[1;32m     27\u001b[0m \u001b[0;34m\u001b[0m\u001b[0m\n\u001b[1;32m     28\u001b[0m     \u001b[0;31m# 递归构建左子树和右子树\u001b[0m\u001b[0;34m\u001b[0m\u001b[0;34m\u001b[0m\u001b[0;34m\u001b[0m\u001b[0m\n\u001b[0;32m---> 29\u001b[0;31m     \u001b[0mson1\u001b[0m\u001b[0;34m=\u001b[0m\u001b[0mfit_ball_tree\u001b[0m\u001b[0;34m(\u001b[0m\u001b[0mx1\u001b[0m\u001b[0;34m)\u001b[0m\u001b[0;34m\u001b[0m\u001b[0;34m\u001b[0m\u001b[0m\n\u001b[0m\u001b[1;32m     30\u001b[0m     \u001b[0mson2\u001b[0m\u001b[0;34m=\u001b[0m\u001b[0mfit_ball_tree\u001b[0m\u001b[0;34m(\u001b[0m\u001b[0mx2\u001b[0m\u001b[0;34m)\u001b[0m\u001b[0;34m\u001b[0m\u001b[0;34m\u001b[0m\u001b[0m\n\u001b[1;32m     31\u001b[0m     node=dict({'pivot':p,\n",
      "\u001b[0;32m/var/folders/8j/gcjktp6s2wn3l5pd66pyr67w0000gn/T/ipykernel_25242/3790251974.py\u001b[0m in \u001b[0;36mfit_ball_tree\u001b[0;34m(x)\u001b[0m\n\u001b[1;32m     28\u001b[0m     \u001b[0;31m# 递归构建左子树和右子树\u001b[0m\u001b[0;34m\u001b[0m\u001b[0;34m\u001b[0m\u001b[0;34m\u001b[0m\u001b[0m\n\u001b[1;32m     29\u001b[0m     \u001b[0mson1\u001b[0m\u001b[0;34m=\u001b[0m\u001b[0mfit_ball_tree\u001b[0m\u001b[0;34m(\u001b[0m\u001b[0mx1\u001b[0m\u001b[0;34m)\u001b[0m\u001b[0;34m\u001b[0m\u001b[0;34m\u001b[0m\u001b[0m\n\u001b[0;32m---> 30\u001b[0;31m     \u001b[0mson2\u001b[0m\u001b[0;34m=\u001b[0m\u001b[0mfit_ball_tree\u001b[0m\u001b[0;34m(\u001b[0m\u001b[0mx2\u001b[0m\u001b[0;34m)\u001b[0m\u001b[0;34m\u001b[0m\u001b[0;34m\u001b[0m\u001b[0m\n\u001b[0m\u001b[1;32m     31\u001b[0m     node=dict({'pivot':p,\n\u001b[1;32m     32\u001b[0m                \u001b[0;34m'son1'\u001b[0m\u001b[0;34m:\u001b[0m\u001b[0mson1\u001b[0m\u001b[0;34m,\u001b[0m\u001b[0;34m\u001b[0m\u001b[0;34m\u001b[0m\u001b[0m\n",
      "\u001b[0;32m/var/folders/8j/gcjktp6s2wn3l5pd66pyr67w0000gn/T/ipykernel_25242/3790251974.py\u001b[0m in \u001b[0;36mfit_ball_tree\u001b[0;34m(x)\u001b[0m\n\u001b[1;32m     28\u001b[0m     \u001b[0;31m# 递归构建左子树和右子树\u001b[0m\u001b[0;34m\u001b[0m\u001b[0;34m\u001b[0m\u001b[0;34m\u001b[0m\u001b[0m\n\u001b[1;32m     29\u001b[0m     \u001b[0mson1\u001b[0m\u001b[0;34m=\u001b[0m\u001b[0mfit_ball_tree\u001b[0m\u001b[0;34m(\u001b[0m\u001b[0mx1\u001b[0m\u001b[0;34m)\u001b[0m\u001b[0;34m\u001b[0m\u001b[0;34m\u001b[0m\u001b[0m\n\u001b[0;32m---> 30\u001b[0;31m     \u001b[0mson2\u001b[0m\u001b[0;34m=\u001b[0m\u001b[0mfit_ball_tree\u001b[0m\u001b[0;34m(\u001b[0m\u001b[0mx2\u001b[0m\u001b[0;34m)\u001b[0m\u001b[0;34m\u001b[0m\u001b[0;34m\u001b[0m\u001b[0m\n\u001b[0m\u001b[1;32m     31\u001b[0m     node=dict({'pivot':p,\n\u001b[1;32m     32\u001b[0m                \u001b[0;34m'son1'\u001b[0m\u001b[0;34m:\u001b[0m\u001b[0mson1\u001b[0m\u001b[0;34m,\u001b[0m\u001b[0;34m\u001b[0m\u001b[0;34m\u001b[0m\u001b[0m\n",
      "\u001b[0;32m/var/folders/8j/gcjktp6s2wn3l5pd66pyr67w0000gn/T/ipykernel_25242/3790251974.py\u001b[0m in \u001b[0;36mfit_ball_tree\u001b[0;34m(x)\u001b[0m\n\u001b[1;32m     28\u001b[0m     \u001b[0;31m# 递归构建左子树和右子树\u001b[0m\u001b[0;34m\u001b[0m\u001b[0;34m\u001b[0m\u001b[0;34m\u001b[0m\u001b[0m\n\u001b[1;32m     29\u001b[0m     \u001b[0mson1\u001b[0m\u001b[0;34m=\u001b[0m\u001b[0mfit_ball_tree\u001b[0m\u001b[0;34m(\u001b[0m\u001b[0mx1\u001b[0m\u001b[0;34m)\u001b[0m\u001b[0;34m\u001b[0m\u001b[0;34m\u001b[0m\u001b[0m\n\u001b[0;32m---> 30\u001b[0;31m     \u001b[0mson2\u001b[0m\u001b[0;34m=\u001b[0m\u001b[0mfit_ball_tree\u001b[0m\u001b[0;34m(\u001b[0m\u001b[0mx2\u001b[0m\u001b[0;34m)\u001b[0m\u001b[0;34m\u001b[0m\u001b[0;34m\u001b[0m\u001b[0m\n\u001b[0m\u001b[1;32m     31\u001b[0m     node=dict({'pivot':p,\n\u001b[1;32m     32\u001b[0m                \u001b[0;34m'son1'\u001b[0m\u001b[0;34m:\u001b[0m\u001b[0mson1\u001b[0m\u001b[0;34m,\u001b[0m\u001b[0;34m\u001b[0m\u001b[0;34m\u001b[0m\u001b[0m\n",
      "\u001b[0;32m/var/folders/8j/gcjktp6s2wn3l5pd66pyr67w0000gn/T/ipykernel_25242/3790251974.py\u001b[0m in \u001b[0;36mfit_ball_tree\u001b[0;34m(x)\u001b[0m\n\u001b[1;32m     27\u001b[0m \u001b[0;34m\u001b[0m\u001b[0m\n\u001b[1;32m     28\u001b[0m     \u001b[0;31m# 递归构建左子树和右子树\u001b[0m\u001b[0;34m\u001b[0m\u001b[0;34m\u001b[0m\u001b[0;34m\u001b[0m\u001b[0m\n\u001b[0;32m---> 29\u001b[0;31m     \u001b[0mson1\u001b[0m\u001b[0;34m=\u001b[0m\u001b[0mfit_ball_tree\u001b[0m\u001b[0;34m(\u001b[0m\u001b[0mx1\u001b[0m\u001b[0;34m)\u001b[0m\u001b[0;34m\u001b[0m\u001b[0;34m\u001b[0m\u001b[0m\n\u001b[0m\u001b[1;32m     30\u001b[0m     \u001b[0mson2\u001b[0m\u001b[0;34m=\u001b[0m\u001b[0mfit_ball_tree\u001b[0m\u001b[0;34m(\u001b[0m\u001b[0mx2\u001b[0m\u001b[0;34m)\u001b[0m\u001b[0;34m\u001b[0m\u001b[0;34m\u001b[0m\u001b[0m\n\u001b[1;32m     31\u001b[0m     node=dict({'pivot':p,\n",
      "\u001b[0;32m/var/folders/8j/gcjktp6s2wn3l5pd66pyr67w0000gn/T/ipykernel_25242/3790251974.py\u001b[0m in \u001b[0;36mfit_ball_tree\u001b[0;34m(x)\u001b[0m\n\u001b[1;32m     27\u001b[0m \u001b[0;34m\u001b[0m\u001b[0m\n\u001b[1;32m     28\u001b[0m     \u001b[0;31m# 递归构建左子树和右子树\u001b[0m\u001b[0;34m\u001b[0m\u001b[0;34m\u001b[0m\u001b[0;34m\u001b[0m\u001b[0m\n\u001b[0;32m---> 29\u001b[0;31m     \u001b[0mson1\u001b[0m\u001b[0;34m=\u001b[0m\u001b[0mfit_ball_tree\u001b[0m\u001b[0;34m(\u001b[0m\u001b[0mx1\u001b[0m\u001b[0;34m)\u001b[0m\u001b[0;34m\u001b[0m\u001b[0;34m\u001b[0m\u001b[0m\n\u001b[0m\u001b[1;32m     30\u001b[0m     \u001b[0mson2\u001b[0m\u001b[0;34m=\u001b[0m\u001b[0mfit_ball_tree\u001b[0m\u001b[0;34m(\u001b[0m\u001b[0mx2\u001b[0m\u001b[0;34m)\u001b[0m\u001b[0;34m\u001b[0m\u001b[0;34m\u001b[0m\u001b[0m\n\u001b[1;32m     31\u001b[0m     node=dict({'pivot':p,\n",
      "\u001b[0;32m/var/folders/8j/gcjktp6s2wn3l5pd66pyr67w0000gn/T/ipykernel_25242/3790251974.py\u001b[0m in \u001b[0;36mfit_ball_tree\u001b[0;34m(x)\u001b[0m\n\u001b[1;32m     27\u001b[0m \u001b[0;34m\u001b[0m\u001b[0m\n\u001b[1;32m     28\u001b[0m     \u001b[0;31m# 递归构建左子树和右子树\u001b[0m\u001b[0;34m\u001b[0m\u001b[0;34m\u001b[0m\u001b[0;34m\u001b[0m\u001b[0m\n\u001b[0;32m---> 29\u001b[0;31m     \u001b[0mson1\u001b[0m\u001b[0;34m=\u001b[0m\u001b[0mfit_ball_tree\u001b[0m\u001b[0;34m(\u001b[0m\u001b[0mx1\u001b[0m\u001b[0;34m)\u001b[0m\u001b[0;34m\u001b[0m\u001b[0;34m\u001b[0m\u001b[0m\n\u001b[0m\u001b[1;32m     30\u001b[0m     \u001b[0mson2\u001b[0m\u001b[0;34m=\u001b[0m\u001b[0mfit_ball_tree\u001b[0m\u001b[0;34m(\u001b[0m\u001b[0mx2\u001b[0m\u001b[0;34m)\u001b[0m\u001b[0;34m\u001b[0m\u001b[0;34m\u001b[0m\u001b[0m\n\u001b[1;32m     31\u001b[0m     node=dict({'pivot':p,\n",
      "\u001b[0;32m/var/folders/8j/gcjktp6s2wn3l5pd66pyr67w0000gn/T/ipykernel_25242/3790251974.py\u001b[0m in \u001b[0;36mfit_ball_tree\u001b[0;34m(x)\u001b[0m\n\u001b[1;32m     28\u001b[0m     \u001b[0;31m# 递归构建左子树和右子树\u001b[0m\u001b[0;34m\u001b[0m\u001b[0;34m\u001b[0m\u001b[0;34m\u001b[0m\u001b[0m\n\u001b[1;32m     29\u001b[0m     \u001b[0mson1\u001b[0m\u001b[0;34m=\u001b[0m\u001b[0mfit_ball_tree\u001b[0m\u001b[0;34m(\u001b[0m\u001b[0mx1\u001b[0m\u001b[0;34m)\u001b[0m\u001b[0;34m\u001b[0m\u001b[0;34m\u001b[0m\u001b[0m\n\u001b[0;32m---> 30\u001b[0;31m     \u001b[0mson2\u001b[0m\u001b[0;34m=\u001b[0m\u001b[0mfit_ball_tree\u001b[0m\u001b[0;34m(\u001b[0m\u001b[0mx2\u001b[0m\u001b[0;34m)\u001b[0m\u001b[0;34m\u001b[0m\u001b[0;34m\u001b[0m\u001b[0m\n\u001b[0m\u001b[1;32m     31\u001b[0m     node=dict({'pivot':p,\n\u001b[1;32m     32\u001b[0m                \u001b[0;34m'son1'\u001b[0m\u001b[0;34m:\u001b[0m\u001b[0mson1\u001b[0m\u001b[0;34m,\u001b[0m\u001b[0;34m\u001b[0m\u001b[0;34m\u001b[0m\u001b[0m\n",
      "\u001b[0;32m/var/folders/8j/gcjktp6s2wn3l5pd66pyr67w0000gn/T/ipykernel_25242/3790251974.py\u001b[0m in \u001b[0;36mfit_ball_tree\u001b[0;34m(x)\u001b[0m\n\u001b[1;32m     27\u001b[0m \u001b[0;34m\u001b[0m\u001b[0m\n\u001b[1;32m     28\u001b[0m     \u001b[0;31m# 递归构建左子树和右子树\u001b[0m\u001b[0;34m\u001b[0m\u001b[0;34m\u001b[0m\u001b[0;34m\u001b[0m\u001b[0m\n\u001b[0;32m---> 29\u001b[0;31m     \u001b[0mson1\u001b[0m\u001b[0;34m=\u001b[0m\u001b[0mfit_ball_tree\u001b[0m\u001b[0;34m(\u001b[0m\u001b[0mx1\u001b[0m\u001b[0;34m)\u001b[0m\u001b[0;34m\u001b[0m\u001b[0;34m\u001b[0m\u001b[0m\n\u001b[0m\u001b[1;32m     30\u001b[0m     \u001b[0mson2\u001b[0m\u001b[0;34m=\u001b[0m\u001b[0mfit_ball_tree\u001b[0m\u001b[0;34m(\u001b[0m\u001b[0mx2\u001b[0m\u001b[0;34m)\u001b[0m\u001b[0;34m\u001b[0m\u001b[0;34m\u001b[0m\u001b[0m\n\u001b[1;32m     31\u001b[0m     node=dict({'pivot':p,\n",
      "\u001b[0;32m/var/folders/8j/gcjktp6s2wn3l5pd66pyr67w0000gn/T/ipykernel_25242/3790251974.py\u001b[0m in \u001b[0;36mfit_ball_tree\u001b[0;34m(x)\u001b[0m\n\u001b[1;32m     28\u001b[0m     \u001b[0;31m# 递归构建左子树和右子树\u001b[0m\u001b[0;34m\u001b[0m\u001b[0;34m\u001b[0m\u001b[0;34m\u001b[0m\u001b[0m\n\u001b[1;32m     29\u001b[0m     \u001b[0mson1\u001b[0m\u001b[0;34m=\u001b[0m\u001b[0mfit_ball_tree\u001b[0m\u001b[0;34m(\u001b[0m\u001b[0mx1\u001b[0m\u001b[0;34m)\u001b[0m\u001b[0;34m\u001b[0m\u001b[0;34m\u001b[0m\u001b[0m\n\u001b[0;32m---> 30\u001b[0;31m     \u001b[0mson2\u001b[0m\u001b[0;34m=\u001b[0m\u001b[0mfit_ball_tree\u001b[0m\u001b[0;34m(\u001b[0m\u001b[0mx2\u001b[0m\u001b[0;34m)\u001b[0m\u001b[0;34m\u001b[0m\u001b[0;34m\u001b[0m\u001b[0m\n\u001b[0m\u001b[1;32m     31\u001b[0m     node=dict({'pivot':p,\n\u001b[1;32m     32\u001b[0m                \u001b[0;34m'son1'\u001b[0m\u001b[0;34m:\u001b[0m\u001b[0mson1\u001b[0m\u001b[0;34m,\u001b[0m\u001b[0;34m\u001b[0m\u001b[0;34m\u001b[0m\u001b[0m\n",
      "... last 1 frames repeated, from the frame below ...\n",
      "\u001b[0;32m/var/folders/8j/gcjktp6s2wn3l5pd66pyr67w0000gn/T/ipykernel_25242/3790251974.py\u001b[0m in \u001b[0;36mfit_ball_tree\u001b[0;34m(x)\u001b[0m\n\u001b[1;32m     28\u001b[0m     \u001b[0;31m# 递归构建左子树和右子树\u001b[0m\u001b[0;34m\u001b[0m\u001b[0;34m\u001b[0m\u001b[0;34m\u001b[0m\u001b[0m\n\u001b[1;32m     29\u001b[0m     \u001b[0mson1\u001b[0m\u001b[0;34m=\u001b[0m\u001b[0mfit_ball_tree\u001b[0m\u001b[0;34m(\u001b[0m\u001b[0mx1\u001b[0m\u001b[0;34m)\u001b[0m\u001b[0;34m\u001b[0m\u001b[0;34m\u001b[0m\u001b[0m\n\u001b[0;32m---> 30\u001b[0;31m     \u001b[0mson2\u001b[0m\u001b[0;34m=\u001b[0m\u001b[0mfit_ball_tree\u001b[0m\u001b[0;34m(\u001b[0m\u001b[0mx2\u001b[0m\u001b[0;34m)\u001b[0m\u001b[0;34m\u001b[0m\u001b[0;34m\u001b[0m\u001b[0m\n\u001b[0m\u001b[1;32m     31\u001b[0m     node=dict({'pivot':p,\n\u001b[1;32m     32\u001b[0m                \u001b[0;34m'son1'\u001b[0m\u001b[0;34m:\u001b[0m\u001b[0mson1\u001b[0m\u001b[0;34m,\u001b[0m\u001b[0;34m\u001b[0m\u001b[0;34m\u001b[0m\u001b[0m\n",
      "\u001b[0;31mRecursionError\u001b[0m: maximum recursion depth exceeded while calling a Python object"
     ]
    }
   ],
   "source": [
    "root=fit_ball_tree(data)\n",
    "\n",
    "Q=np.array([[np.inf,np.inf]]) #global var\n",
    "q=np.array([np.inf]) #global var\n",
    "\n",
    "ball_tree_search(k=3,t=data[0],node=root)\n",
    "print(Q)"
   ]
  },
  {
   "cell_type": "code",
   "execution_count": null,
   "id": "76e741cc-8e71-4ebd-bf8b-284846fa0de9",
   "metadata": {},
   "outputs": [],
   "source": []
  }
 ],
 "metadata": {
  "kernelspec": {
   "display_name": "Python 3 (ipykernel)",
   "language": "python",
   "name": "python3"
  },
  "language_info": {
   "codemirror_mode": {
    "name": "ipython",
    "version": 3
   },
   "file_extension": ".py",
   "mimetype": "text/x-python",
   "name": "python",
   "nbconvert_exporter": "python",
   "pygments_lexer": "ipython3",
   "version": "3.8.12"
  }
 },
 "nbformat": 4,
 "nbformat_minor": 5
}
